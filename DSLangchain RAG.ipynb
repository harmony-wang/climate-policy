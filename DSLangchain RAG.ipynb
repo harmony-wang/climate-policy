{
 "cells": [
  {
   "cell_type": "code",
   "execution_count": 281,
   "id": "8c1caf54-e870-4b0c-a8d9-b7187555d8c7",
   "metadata": {},
   "outputs": [],
   "source": [
    "!pip install --quiet --upgrade langchain langchain-community langchain-chroma"
   ]
  },
  {
   "cell_type": "code",
   "execution_count": 307,
   "id": "8884f609-ecd4-4e9d-b517-462a3dee6cb0",
   "metadata": {},
   "outputs": [
    {
     "name": "stdin",
     "output_type": "stream",
     "text": [
      " ········\n"
     ]
    }
   ],
   "source": [
    "!pip install -qU langchain-openai\n",
    "os.environ[\"LANGCHAIN_TRACING_V2\"] = \"false\"  \n",
    "os.environ[\"OPENAI_API_KEY\"] = getpass.getpass()\n",
    "from langchain_openai import ChatOpenAI\n",
    "llm = ChatOpenAI(model=\"gpt-4o-mini\")"
   ]
  },
  {
   "cell_type": "code",
   "execution_count": 309,
   "id": "07cf16c7-3594-4634-ae50-18d8907e845e",
   "metadata": {},
   "outputs": [],
   "source": [
    "import bs4\n",
    "from langchain import hub\n",
    "from langchain_chroma import Chroma\n",
    "from langchain_core.output_parsers import StrOutputParser\n",
    "from langchain_core.runnables import RunnablePassthrough\n",
    "from langchain_openai import OpenAIEmbeddings\n",
    "from langchain_text_splitters import RecursiveCharacterTextSplitter\n",
    "from langchain_community.document_loaders import PyPDFLoader"
   ]
  },
  {
   "cell_type": "code",
   "execution_count": 311,
   "id": "cbffe0c6-b2e1-4e32-8c6f-2ad9ba7ef1c6",
   "metadata": {},
   "outputs": [
    {
     "name": "stdout",
     "output_type": "stream",
     "text": [
      "Requirement already satisfied: pypdf in /opt/anaconda3/lib/python3.12/site-packages (5.0.1)\n"
     ]
    }
   ],
   "source": [
    "!pip install pypdf\n",
    "import PyPDF2\n",
    "\n",
    "pdf_loader = PyPDFLoader(file_path='Resilient_LosAngeles_Plan.pdf') \n",
    "docs = pdf_loader.load()"
   ]
  },
  {
   "cell_type": "code",
   "execution_count": 312,
   "id": "e46f153a-9b50-49e8-b39b-d145d61644df",
   "metadata": {},
   "outputs": [
    {
     "data": {
      "text/plain": [
       "91"
      ]
     },
     "execution_count": 312,
     "metadata": {},
     "output_type": "execute_result"
    }
   ],
   "source": [
    "len(docs[0].page_content)"
   ]
  },
  {
   "cell_type": "code",
   "execution_count": 313,
   "id": "cb2320ea-82a9-4b94-9047-dce423d865d5",
   "metadata": {},
   "outputs": [
    {
     "data": {
      "text/plain": [
       "468"
      ]
     },
     "execution_count": 313,
     "metadata": {},
     "output_type": "execute_result"
    }
   ],
   "source": [
    "text_splitter = RecursiveCharacterTextSplitter(chunk_size=1000, chunk_overlap=200)\n",
    "all_splits = text_splitter.split_documents(docs)\n",
    "len(all_splits)"
   ]
  },
  {
   "cell_type": "code",
   "execution_count": 314,
   "id": "f384a230-0c16-4340-b17e-283c893fd07a",
   "metadata": {},
   "outputs": [],
   "source": [
    "from langchain_chroma import Chroma\n",
    "from langchain_openai import OpenAIEmbeddings\n",
    "\n",
    "vectorstore = Chroma.from_documents(documents=all_splits, embedding=OpenAIEmbeddings())"
   ]
  },
  {
   "cell_type": "code",
   "execution_count": 327,
   "id": "58a16a17-9fc7-4dd5-994d-6e5eefa60865",
   "metadata": {},
   "outputs": [
    {
     "data": {
      "text/plain": [
       "6"
      ]
     },
     "execution_count": 327,
     "metadata": {},
     "output_type": "execute_result"
    }
   ],
   "source": [
    "retriever = vectorstore.as_retriever(search_type=\"similarity\", search_kwargs={\"k\": 6})\n",
    "\n",
    "retrieved_docs = retriever.invoke(\"What Climate Threats?\")\n",
    "\n",
    "len(retrieved_docs)"
   ]
  },
  {
   "cell_type": "code",
   "execution_count": 329,
   "id": "cd500795-cd5a-4906-b713-352226c10606",
   "metadata": {},
   "outputs": [
    {
     "name": "stdout",
     "output_type": "stream",
     "text": [
      "Recent catastrophes around the world —\n",
      "hurricanes in the U.S. and the Caribbean, \n",
      "earthquakes in Mexico, fires in the western U.S., \n",
      "flooding in Nepal and Bangladesh —are serious \n",
      "reminders that every community needs focused resilience strategies. \n",
      "In Los Angeles, we know a major earthquake is \n",
      "a matter of when, not if. And we know that the \n",
      "next one could be more than 10 times worse \n",
      "than the 1994 Northridge earthquake that \n",
      "claimed 57 lives, injured over 9,000, displaced \n",
      "tens of thousands from their homes, and caused \n",
      "$20 billion in damage. \n",
      "And earthquakes aren’t the only threat we face: \n",
      "The effects of climate change are worsening, \n",
      "and cybercrime is causing more turmoil than \n",
      "ever for businesses, governments, and other \n",
      "institutions around the world. These threats are emerging quickly, and \n",
      "we can’t wait for catastrophes to hit before \n",
      "confronting them. We need a comprehensive, \n",
      "strategically coordinated approach to  \n",
      "urban resilience.\n"
     ]
    }
   ],
   "source": [
    "print(retrieved_docs[0].page_content)"
   ]
  },
  {
   "cell_type": "code",
   "execution_count": 317,
   "id": "9bf30c49-a73a-430e-9563-c39072b00c77",
   "metadata": {},
   "outputs": [],
   "source": [
    "from langchain.chains import create_retrieval_chain\n",
    "from langchain.chains.combine_documents import create_stuff_documents_chain\n",
    "from langchain_core.prompts import ChatPromptTemplate"
   ]
  },
  {
   "cell_type": "code",
   "execution_count": 318,
   "id": "82fce141-349e-46f4-82e6-ab4f25273a64",
   "metadata": {},
   "outputs": [],
   "source": [
    "definitions = {\n",
    "    \"Climate Change\": \"A long-term shift in weather patterns and temperatures, primarily caused by human activities emitting greenhouse gases (GHGs).\",\n",
    "    \"Greenhouse Gases (GHGs)\": \"Atmospheric gases like CO₂, CH₄, N₂O that absorb and emit radiation, leading to the greenhouse effect.\",\n",
    "    \"Anthropogenic Emissions\": \"Emissions of GHGs resulting from human activities such as burning fossil fuels and deforestation.\",\n",
    "    \"Climate Impacts\": \"Consequences of climate-related hazards on natural and human systems, affecting lives, ecosystems, economies, and infrastructure.\",\n",
    "    \"Climate Risk\": \"Potential negative consequences from climate impacts, resulting from the interaction of hazard, exposure, and vulnerability.\",\n",
    "    \"Climate Vulnerability\": \"The degree to which a system is susceptible to harm from climate change and its ability to adapt.\",\n",
    "    \"Climate Policies\": \"Strategies and measures adopted to implement resilience, mitigation, and adaptation options.\",\n",
    "    \"Resilience\": \"The ability of systems to cope with climate hazards by maintaining essential functions and adapting to changes.\",\n",
    "    \"Resilience Options\": \"Strategies to build resilience through policy changes, infrastructure improvements, planning, etc.\",\n",
    "    \"Mitigation\": \"Efforts to reduce or prevent emission of GHGs.\",\n",
    "    \"Mitigation Options\": \"Technologies or practices that contribute to mitigation, like renewable energy or waste minimization.\",\n",
    "    \"Adaptation\": \"Adjusting systems to actual or expected climate changes to minimize harm or exploit beneficial opportunities.\",\n",
    "    \"Adaptation Options\": \"Strategies addressing climate change adaptation, including structural, institutional, ecological, and behavioral measures.\",\n",
    "    \"Climate Justice\": \"Ensuring equitable sharing of the burdens and benefits of climate change impacts.\",\n",
    "    \"Maladaptation\": \"Actions that may increase vulnerability to climate change or diminish resilience.\",\n",
    "    \"Scenario\": \"A plausible description of how the future may develop based on a coherent set of assumptions.\"\n",
    "}"
   ]
  },
  {
   "cell_type": "code",
   "execution_count": 322,
   "id": "c32441ec-a968-47c3-9893-b492d4679405",
   "metadata": {},
   "outputs": [],
   "source": [
    "normalized_definitions = {key.lower(): value for key, value in definitions.items()}\n",
    "definitions_context = \"\\n\".join([f\"{key}: {value}\" for key, value in definitions.items()])\n"
   ]
  },
  {
   "cell_type": "code",
   "execution_count": 345,
   "id": "e0492a70-624e-40bf-823a-1c32f2b7cab6",
   "metadata": {},
   "outputs": [
    {
     "name": "stdout",
     "output_type": "stream",
     "text": [
      "Prompt Structure: input_variables=['context', 'input'] input_types={} partial_variables={} messages=[SystemMessagePromptTemplate(prompt=PromptTemplate(input_variables=['context'], input_types={}, partial_variables={}, template=\"You are a researcher specializing in extracting climate-related information from climate adaptation and resilience plans.You are provided with a document (referred to as the 'plan') from a state or city in the United States (the 'planning jurisdiction')that has adopted policies addressing climate change, which may pertain to resilience, mitigation, and adaptation.\\n\\n{context}Definitions:\\nClimate Change: A long-term shift in weather patterns and temperatures, primarily caused by human activities emitting greenhouse gases (GHGs).\\nGreenhouse Gases (GHGs): Atmospheric gases like CO₂, CH₄, N₂O that absorb and emit radiation, leading to the greenhouse effect.\\nAnthropogenic Emissions: Emissions of GHGs resulting from human activities such as burning fossil fuels and deforestation.\\nClimate Impacts: Consequences of climate-related hazards on natural and human systems, affecting lives, ecosystems, economies, and infrastructure.\\nClimate Risk: Potential negative consequences from climate impacts, resulting from the interaction of hazard, exposure, and vulnerability.\\nClimate Vulnerability: The degree to which a system is susceptible to harm from climate change and its ability to adapt.\\nClimate Policies: Strategies and measures adopted to implement resilience, mitigation, and adaptation options.\\nResilience: The ability of systems to cope with climate hazards by maintaining essential functions and adapting to changes.\\nResilience Options: Strategies to build resilience through policy changes, infrastructure improvements, planning, etc.\\nMitigation: Efforts to reduce or prevent emission of GHGs.\\nMitigation Options: Technologies or practices that contribute to mitigation, like renewable energy or waste minimization.\\nAdaptation: Adjusting systems to actual or expected climate changes to minimize harm or exploit beneficial opportunities.\\nAdaptation Options: Strategies addressing climate change adaptation, including structural, institutional, ecological, and behavioral measures.\\nClimate Justice: Ensuring equitable sharing of the burdens and benefits of climate change impacts.\\nMaladaptation: Actions that may increase vulnerability to climate change or diminish resilience.\\nScenario: A plausible description of how the future may develop based on a coherent set of assumptions.\"), additional_kwargs={}), HumanMessagePromptTemplate(prompt=PromptTemplate(input_variables=['input'], input_types={}, partial_variables={}, template='{input}'), additional_kwargs={})]\n"
     ]
    }
   ],
   "source": [
    "system_prompt = (\n",
    "    \"You are a researcher specializing in extracting climate-related information from climate adaptation and resilience plans.\"\n",
    "    \"You are provided with a document (referred to as the 'plan') from a state or city in the United States (the 'planning jurisdiction')that has adopted policies addressing climate change, which may pertain to resilience, mitigation, and adaptation.\"\n",
    "    \"\\n\\n\"\n",
    "    \"{context}\"\n",
    "    \"Definitions:\\n\"\n",
    "    f\"{definitions_context}\"\n",
    ")\n",
    "\n",
    "prompt = ChatPromptTemplate.from_messages(\n",
    "    [\n",
    "        (\"system\", system_prompt),\n",
    "        (\"human\", \"{input}\"),\n",
    "    ]\n",
    ")\n",
    "print(\"Prompt Structure:\", prompt)\n",
    "\n",
    "question_answer_chain = create_stuff_documents_chain(llm, prompt)\n",
    "rag_chain = create_retrieval_chain(retriever, question_answer_chain)\n"
   ]
  },
  {
   "cell_type": "code",
   "execution_count": 324,
   "id": "1bfdd7db-0f99-4a95-a3dc-3714423d4c78",
   "metadata": {},
   "outputs": [],
   "source": [
    "# List of questions to query\n",
    "\n",
    "context_questions = [\n",
    "     #Planning Jurisdiction\n",
    "    \"Provide a summary of information available from the plan regarding the planning jurisdiction, including its name, location, population, geography, major industries, per capita income, and similar information.\",\n",
    "    #Plan Scope\n",
    "    \"To what extent does the plan address resilience, mitigation, and adaptation?\",\n",
    "    #Scenario\n",
    "    \"Does the plan describe a scenario of climate change the planning jurisdiction will face and for which it is planning climate policies for resilience, mitigation, and adaptation? If so, please summarize any such scenario.\"\n",
    "]\n",
    "\n",
    "threats_questions = [\n",
    "    #Climate Impacts\n",
    "    \"\"\"What climate impacts does the plan identify as presenting climate risks for the planning jurisdiction? For each identified climate impact, summarize the plan’s description of:\n",
    "    1. The climate impact.\n",
    "    2. The climate risks it poses to the planning jurisdiction.\n",
    "    3. Areas or populations with the most climate vulnerability to the identified climate impact.\"\"\",\n",
    "]\n",
    "\n",
    "measures_questions = [\n",
    "    #Resilience Options\n",
    "    \"What resilience options does the plan identify? For each identified resilience option, summarize the information provided in the plan regarding cost, timing, location, and other important attributes.\",\n",
    "    #Mitigation Options\n",
    "    \"What mitigation options does the plan identify? For each identified mitigation option, summarize the information provided in the plan regarding cost, timing, location, and other important attributes.\"\n",
    "]\n",
    "\n",
    "questions = [\n",
    "    #Planning Jurisdiction\n",
    "    \"Provide a summary of information available from the plan regarding the planning jurisdiction, including its name, location, population, geography, major industries, per capita income, and similar information.\",\n",
    "    #Plan Scope\n",
    "    \"To what extent does the plan address resilience, mitigation, and adaptation?\",\n",
    "    #Scenario\n",
    "    \"Does the plan describe a scenario of climate change the planning jurisdiction will face and for which it is planning climate policies for resilience, mitigation, and adaptation? If so, please summarize any such scenario.\",\n",
    "    #Climate Impacts\n",
    "    \"\"\"What climate impacts does the plan identify as presenting climate risks for the planning jurisdiction? For each identified climate impact, summarize the plan’s description of:\n",
    "    1. The climate impact.\n",
    "    2. The climate risks it poses to the planning jurisdiction.\n",
    "    3. Areas or populations with the most climate vulnerability to the identified climate impact.\"\"\",\n",
    "    #Resilience Options\n",
    "    \"What resilience options does the plan identify? For each identified resilience option, summarize the information provided in the plan regarding cost, timing, location, and other important attributes.\",\n",
    "    #Mitigation Options\n",
    "    \"What mitigation options does the plan identify? For each identified mitigation option, summarize the information provided in the plan regarding cost, timing, location, and other important attributes.\"\n",
    "]"
   ]
  },
  {
   "cell_type": "code",
   "execution_count": 349,
   "id": "7460b3cd-506c-49ba-abe9-abdc8f22099f",
   "metadata": {},
   "outputs": [],
   "source": [
    "def generate_responses(questions):\n",
    "    responses = []\n",
    "    for question in questions:\n",
    "        try:\n",
    "            response = rag_chain.invoke({\"input\": question.lower()})\n",
    "            responses.append(f\"**{question}**\\n{response['answer']}\\n\\n\")\n",
    "        except Exception as e:\n",
    "            responses.append(f\"**{question}**\\nError: {str(e)}\\n\\n\")\n",
    "    return responses"
   ]
  },
  {
   "cell_type": "code",
   "execution_count": null,
   "id": "9cc3b30b-6a82-41be-9879-b7e85c708e91",
   "metadata": {},
   "outputs": [],
   "source": [
    "Output = \"# Climate Change Responses\\n\\n\"\n",
    "\n",
    "Output += \"# Context Questions\\n\"\n",
    "Output += (generate_responses(context_questions))\n",
    "\n",
    "print(Output)"
   ]
  },
  {
   "cell_type": "code",
   "execution_count": 367,
   "id": "0a1fa23e-58bc-4acb-b9cd-4746983c544d",
   "metadata": {},
   "outputs": [
    {
     "name": "stderr",
     "output_type": "stream",
     "text": [
      "Failed to batch ingest runs: langsmith.utils.LangSmithError: Failed to POST https://api.smith.langchain.com/runs/batch in LangSmith API. HTTPError('403 Client Error: Forbidden for url: https://api.smith.langchain.com/runs/batch', '{\"detail\":\"Forbidden\"}')\n",
      "Failed to batch ingest runs: langsmith.utils.LangSmithError: Failed to POST https://api.smith.langchain.com/runs/batch in LangSmith API. HTTPError('403 Client Error: Forbidden for url: https://api.smith.langchain.com/runs/batch', '{\"detail\":\"Forbidden\"}')\n",
      "Failed to batch ingest runs: langsmith.utils.LangSmithError: Failed to POST https://api.smith.langchain.com/runs/batch in LangSmith API. HTTPError('403 Client Error: Forbidden for url: https://api.smith.langchain.com/runs/batch', '{\"detail\":\"Forbidden\"}')\n",
      "Failed to batch ingest runs: langsmith.utils.LangSmithError: Failed to POST https://api.smith.langchain.com/runs/batch in LangSmith API. HTTPError('403 Client Error: Forbidden for url: https://api.smith.langchain.com/runs/batch', '{\"detail\":\"Forbidden\"}')\n",
      "Failed to batch ingest runs: langsmith.utils.LangSmithError: Failed to POST https://api.smith.langchain.com/runs/batch in LangSmith API. HTTPError('403 Client Error: Forbidden for url: https://api.smith.langchain.com/runs/batch', '{\"detail\":\"Forbidden\"}')\n",
      "Failed to batch ingest runs: langsmith.utils.LangSmithError: Failed to POST https://api.smith.langchain.com/runs/batch in LangSmith API. HTTPError('403 Client Error: Forbidden for url: https://api.smith.langchain.com/runs/batch', '{\"detail\":\"Forbidden\"}')\n"
     ]
    },
    {
     "name": "stdout",
     "output_type": "stream",
     "text": [
      "# Climate Change Responses\n",
      "\n",
      "# Context Questions\n",
      "[\"**Provide a summary of information available from the plan regarding the planning jurisdiction, including its name, location, population, geography, major industries, per capita income, and similar information.**\\nThe provided text does not contain specific details regarding the planning jurisdiction's name, location, population, geography, major industries, or per capita income. It primarily focuses on the incorporation of climate adaptation, hazard mitigation, and resilience strategies within the General Plan of the jurisdiction, as well as the involvement of various partners in this process.\\n\\nTo gather the requested summary about the planning jurisdiction, additional information from the complete climate adaptation and resilience plan or other relevant documents would be necessary. If you have more content from the plan or other resources, please provide it so I can assist you further.\\n\\n\", '**To what extent does the plan address resilience, mitigation, and adaptation?**\\nThe plan addresses resilience, mitigation, and adaptation through a variety of strategies and initiatives, broken down as follows:\\n\\n### Resilience\\n1. **Investment in Critical Infrastructure**: The plan emphasizes the application of resilience criteria to prioritize investments in capital planning and critical infrastructure by 2022. This indicates a focus on strengthening systems to withstand climate hazards.\\n   \\n2. **Green Infrastructure and Stormwater Management**: There is a commitment to invest in green infrastructure and stormwater retention to capture water for reuse, improve water quality, and reduce flooding risk by 2028. This enhances community resilience to flooding and water management challenges.\\n\\n3. **Vulnerable Buildings**: The plan includes a long-term investment strategy to strengthen the most vulnerable buildings against seismic and climate threats by 2043, directly addressing resilience in the built environment.\\n\\n4. **Leadership and Engagement**: The expansion of the Mayor’s Office of Resilience and the designation of Chief Resilience Officers demonstrates a commitment to leadership in resilience efforts. Additionally, tracking and reporting resilience outcomes for vulnerable populations ensures that progress is measured and transparent.\\n\\n5. **Real-time Data Gathering**: The plan mentions increasing real-time data gathering and sharing tools, which is essential for adaptive capacity and informed decision-making in response to climate impacts.\\n\\n### Mitigation\\n1. **Modernization of the Power Grid**: The plan includes a goal to modernize the power grid to expand renewable energy sources to 65% by 2036. This is a significant mitigation strategy, as it aims to reduce reliance on fossil fuels and decrease greenhouse gas emissions.\\n\\n2. **Emergency Backup Systems**: Deepening storage capacity and broadening emergency backup systems also contributes to overall energy resilience, which can mitigate risks associated with energy supply disruptions.\\n\\n### Adaptation\\n1. **Adaptive Infrastructure**: The focus on investing in green infrastructure, stormwater management, and strengthening vulnerable buildings reflects adaptation strategies that aim to adjust to climate changes and minimize harm.\\n\\n2. **Engagement with Vulnerable Populations**: The emphasis on tracking resilience outcomes for vulnerable populations indicates an adaptation approach that considers the specific needs and challenges faced by these groups in the context of climate change.\\n\\n### Conclusion\\nOverall, the plan comprehensively addresses resilience through infrastructure investment, leadership engagement, and data-driven decision-making. It also incorporates mitigation strategies through renewable energy initiatives and adaptation measures by enhancing the resilience of vulnerable communities and infrastructure. This multi-faceted approach suggests a strong commitment to addressing the interconnected challenges posed by climate change.\\n\\n', '**Does the plan describe a scenario of climate change the planning jurisdiction will face and for which it is planning climate policies for resilience, mitigation, and adaptation? If so, please summarize any such scenario.**\\nThe provided excerpt does not explicitly describe a specific scenario of climate change that the planning jurisdiction will face. Instead, it outlines a general approach to incorporating climate adaptation, hazard mitigation, and recovery into the General Plan. The emphasis is on improving resilience against various shocks and stresses, including disasters, climate change, and economic shifts. \\n\\nWhile the excerpt mentions the need to consider climate adaptation and the ability of systems to recover, it does not detail particular climate scenarios or specific projected impacts. Therefore, a summary of a climate change scenario is not available from the given text.\\n\\n']\n"
     ]
    }
   ],
   "source": [
    "output_context_questions = \"# Climate Change Responses\\n\\n\"\n",
    "\n",
    "output_context_questions += \"# Context Questions\\n\"\n",
    "output_context_questions += str(generate_responses(context_questions))\n",
    "\n",
    "print(output_context_questions)"
   ]
  },
  {
   "cell_type": "code",
   "execution_count": 351,
   "id": "3d9bfe14-fa9c-4e00-9512-5e62b2b44036",
   "metadata": {},
   "outputs": [
    {
     "name": "stderr",
     "output_type": "stream",
     "text": [
      "Failed to batch ingest runs: langsmith.utils.LangSmithError: Failed to POST https://api.smith.langchain.com/runs/batch in LangSmith API. HTTPError('403 Client Error: Forbidden for url: https://api.smith.langchain.com/runs/batch', '{\"detail\":\"Forbidden\"}')\n",
      "Failed to batch ingest runs: langsmith.utils.LangSmithError: Failed to POST https://api.smith.langchain.com/runs/batch in LangSmith API. HTTPError('403 Client Error: Forbidden for url: https://api.smith.langchain.com/runs/batch', '{\"detail\":\"Forbidden\"}')\n"
     ]
    },
    {
     "name": "stdout",
     "output_type": "stream",
     "text": [
      "# Climate Change Responses\n",
      "\n",
      "# Context Questions\n",
      "**Provide a summary of information available from the plan regarding the planning jurisdiction, including its name, location, population, geography, major industries, per capita income, and similar information.**\n",
      "The provided text does not explicitly mention the name of the planning jurisdiction, its location, population, geography, major industries, or per capita income. It primarily focuses on the guiding principles for the General Plan, emphasizing climate adaptation, hazard mitigation, recovery, equity, and infrastructure investment. \n",
      "\n",
      "To summarize, the plan outlines:\n",
      "\n",
      "- **Focus Areas**: Climate adaptation, hazard mitigation, recovery, equity, and long-term capital planning for infrastructure.\n",
      "- **Objectives**: To enhance citywide resilience by informing land-use decisions that help individuals, neighborhoods, economic systems, and the environment recover from disasters, climate change, and economic shifts.\n",
      "- **Partnerships**: Involvement of the Department of City Planning (DCP), city departments, and Neighborhood Councils.\n",
      "\n",
      "For detailed demographic and economic information about the planning jurisdiction, additional context or a more comprehensive section of the plan would be needed.\n",
      "\n",
      "**To what extent does the plan address resilience, mitigation, and adaptation?**\n",
      "The plan addresses resilience, mitigation, and adaptation through a series of targeted projects and initiatives aimed at enhancing the community's ability to cope with climate-related hazards while simultaneously reducing greenhouse gas emissions and adjusting to the impacts of climate change. Here’s a breakdown of how each aspect is addressed:\n",
      "\n",
      "1. **Resilience**: \n",
      "   - The plan prioritizes investments in capital planning and critical infrastructure, indicating a focus on enhancing the community's overall resilience to climate impacts.\n",
      "   - It includes initiatives to invest in green infrastructure and stormwater retention to mitigate flooding risks, improve water quality, and capture water for reuse, which are essential for building resilience in the face of climate change.\n",
      "   - The modernization of the power grid to support renewable energy sources and enhance storage capacity is a significant step towards increasing resilience by ensuring a reliable energy supply during climate-related disruptions.\n",
      "   - The plan emphasizes the need to invest in vulnerable buildings to withstand seismic and climate threats, which directly addresses community resilience.\n",
      "\n",
      "2. **Mitigation**: \n",
      "   - The plan outlines a commitment to expand renewable energy to 65% of the power supply by 2036, which is a key mitigation strategy aimed at reducing greenhouse gas emissions.\n",
      "   - By investing in green infrastructure, the plan not only addresses flooding and water quality but also contributes to the reduction of urban heat and carbon emissions, further supporting mitigation efforts.\n",
      "\n",
      "3. **Adaptation**: \n",
      "   - The plan includes specific measures to adapt to climate change impacts, such as investing in vulnerable buildings to ensure they can withstand climate and seismic threats.\n",
      "   - The tracking and reporting on resilience outcomes for vulnerable populations and neighborhoods suggests a commitment to adapting strategies based on real-time data and outcomes, which is essential for effective adaptation.\n",
      "\n",
      "Overall, the plan integrates resilience, mitigation, and adaptation strategies through a comprehensive approach that prioritizes infrastructure investments, renewable energy expansion, and targeted support for vulnerable communities. These efforts collectively aim to enhance the community's capacity to deal with the effects of climate change while also working to prevent further climate impacts.\n",
      "\n",
      "**Does the plan describe a scenario of climate change the planning jurisdiction will face and for which it is planning climate policies for resilience, mitigation, and adaptation? If so, please summarize any such scenario.**\n",
      "The plan does not explicitly describe a specific scenario of climate change that the planning jurisdiction will face. Instead, it outlines general principles and approaches for integrating climate adaptation, hazard mitigation, recovery, and equity into land-use decisions and the General Plan. The focus is on encouraging resilience against various shocks and stresses, including disasters and economic shifts, without detailing specific climate scenarios or impacts.\n",
      "\n",
      "# Threats Questions\n",
      "**What climate impacts does the plan identify as presenting climate risks for the planning jurisdiction? For each identified climate impact, summarize the plan’s description of:\n",
      "    1. The climate impact.\n",
      "    2. The climate risks it poses to the planning jurisdiction.\n",
      "    3. Areas or populations with the most climate vulnerability to the identified climate impact.**\n",
      "The provided text does not explicitly identify specific climate impacts or describe their associated risks and vulnerabilities within the planning jurisdiction. Instead, it focuses primarily on the general principles guiding the incorporation of climate adaptation, hazard mitigation, and recovery into the General Plan, as well as the promotion of citywide resilience.\n",
      "\n",
      "However, based on typical climate adaptation and resilience plans, I can provide a hypothetical summary of what these sections might include:\n",
      "\n",
      "1. **Climate Impact: Increased Extreme Weather Events**\n",
      "   - **Description**: The plan may describe increased occurrences of extreme weather events such as hurricanes, floods, and heatwaves, which are becoming more frequent due to climate change.\n",
      "   - **Climate Risks**: These events pose significant risks to infrastructure, public health, and safety. They can lead to property damage, disruption of services, and increased emergency response costs.\n",
      "   - **Vulnerable Areas/Populations**: Low-lying neighborhoods, underserved communities, and those with limited access to resources or emergency services may be the most vulnerable to these extreme weather impacts.\n",
      "\n",
      "2. **Climate Impact: Rising Sea Levels**\n",
      "   - **Description**: The plan might indicate that rising sea levels threaten coastal areas due to melting ice caps and thermal expansion of seawater.\n",
      "   - **Climate Risks**: This can result in flooding, erosion, and loss of habitat. Communities may face displacement, loss of property, and threats to local economies that rely on coastal resources.\n",
      "   - **Vulnerable Areas/Populations**: Coastal neighborhoods, particularly those with lower socioeconomic status, are at higher risk as they may lack the resources to adapt or relocate.\n",
      "\n",
      "3. **Climate Impact: Increased Heat Waves**\n",
      "   - **Description**: The plan could highlight the increasing frequency and intensity of heat waves, which are exacerbated by urban heat island effects.\n",
      "   - **Climate Risks**: Higher temperatures can lead to health risks such as heat-related illnesses, increased energy demand, and strain on healthcare systems.\n",
      "   - **Vulnerable Areas/Populations**: Elderly residents, individuals with pre-existing health conditions, and those without access to air conditioning or green spaces are particularly vulnerable.\n",
      "\n",
      "4. **Climate Impact: Droughts and Water Scarcity**\n",
      "   - **Description**: The plan may mention more frequent and severe droughts affecting water supply and quality.\n",
      "   - **Climate Risks**: Water scarcity can impact agriculture, reduce water availability for residents, and lead to conflicts over resources.\n",
      "   - **Vulnerable Areas/Populations**: Agricultural communities and low-income households dependent on consistent water access are likely to experience the most significant impacts.\n",
      "\n",
      "For a comprehensive assessment, specific information on the climate impacts and their descriptions would be required from the actual plan.\n",
      "\n",
      "\n"
     ]
    }
   ],
   "source": [
    "markdown_output += \"# Threats Questions\\n\"\n",
    "markdown_output += \"\".join(generate_responses(threats_questions))\n",
    "\n",
    "print(markdown_output)"
   ]
  },
  {
   "cell_type": "code",
   "execution_count": 352,
   "id": "a5e20cb0-5661-4491-a9ae-cfd96da2a5c2",
   "metadata": {},
   "outputs": [
    {
     "name": "stderr",
     "output_type": "stream",
     "text": [
      "Failed to batch ingest runs: langsmith.utils.LangSmithError: Failed to POST https://api.smith.langchain.com/runs/batch in LangSmith API. HTTPError('403 Client Error: Forbidden for url: https://api.smith.langchain.com/runs/batch', '{\"detail\":\"Forbidden\"}')\n",
      "Failed to batch ingest runs: langsmith.utils.LangSmithError: Failed to POST https://api.smith.langchain.com/runs/batch in LangSmith API. HTTPError('403 Client Error: Forbidden for url: https://api.smith.langchain.com/runs/batch', '{\"detail\":\"Forbidden\"}')\n",
      "Failed to batch ingest runs: langsmith.utils.LangSmithError: Failed to POST https://api.smith.langchain.com/runs/batch in LangSmith API. HTTPError('403 Client Error: Forbidden for url: https://api.smith.langchain.com/runs/batch', '{\"detail\":\"Forbidden\"}')\n",
      "Failed to batch ingest runs: langsmith.utils.LangSmithError: Failed to POST https://api.smith.langchain.com/runs/batch in LangSmith API. HTTPError('403 Client Error: Forbidden for url: https://api.smith.langchain.com/runs/batch', '{\"detail\":\"Forbidden\"}')\n"
     ]
    },
    {
     "name": "stdout",
     "output_type": "stream",
     "text": [
      "# Climate Change Responses\n",
      "\n",
      "# Context Questions\n",
      "**Provide a summary of information available from the plan regarding the planning jurisdiction, including its name, location, population, geography, major industries, per capita income, and similar information.**\n",
      "The provided text does not explicitly mention the name of the planning jurisdiction, its location, population, geography, major industries, or per capita income. It primarily focuses on the guiding principles for the General Plan, emphasizing climate adaptation, hazard mitigation, recovery, equity, and infrastructure investment. \n",
      "\n",
      "To summarize, the plan outlines:\n",
      "\n",
      "- **Focus Areas**: Climate adaptation, hazard mitigation, recovery, equity, and long-term capital planning for infrastructure.\n",
      "- **Objectives**: To enhance citywide resilience by informing land-use decisions that help individuals, neighborhoods, economic systems, and the environment recover from disasters, climate change, and economic shifts.\n",
      "- **Partnerships**: Involvement of the Department of City Planning (DCP), city departments, and Neighborhood Councils.\n",
      "\n",
      "For detailed demographic and economic information about the planning jurisdiction, additional context or a more comprehensive section of the plan would be needed.\n",
      "\n",
      "**To what extent does the plan address resilience, mitigation, and adaptation?**\n",
      "The plan addresses resilience, mitigation, and adaptation through a series of targeted projects and initiatives aimed at enhancing the community's ability to cope with climate-related hazards while simultaneously reducing greenhouse gas emissions and adjusting to the impacts of climate change. Here’s a breakdown of how each aspect is addressed:\n",
      "\n",
      "1. **Resilience**: \n",
      "   - The plan prioritizes investments in capital planning and critical infrastructure, indicating a focus on enhancing the community's overall resilience to climate impacts.\n",
      "   - It includes initiatives to invest in green infrastructure and stormwater retention to mitigate flooding risks, improve water quality, and capture water for reuse, which are essential for building resilience in the face of climate change.\n",
      "   - The modernization of the power grid to support renewable energy sources and enhance storage capacity is a significant step towards increasing resilience by ensuring a reliable energy supply during climate-related disruptions.\n",
      "   - The plan emphasizes the need to invest in vulnerable buildings to withstand seismic and climate threats, which directly addresses community resilience.\n",
      "\n",
      "2. **Mitigation**: \n",
      "   - The plan outlines a commitment to expand renewable energy to 65% of the power supply by 2036, which is a key mitigation strategy aimed at reducing greenhouse gas emissions.\n",
      "   - By investing in green infrastructure, the plan not only addresses flooding and water quality but also contributes to the reduction of urban heat and carbon emissions, further supporting mitigation efforts.\n",
      "\n",
      "3. **Adaptation**: \n",
      "   - The plan includes specific measures to adapt to climate change impacts, such as investing in vulnerable buildings to ensure they can withstand climate and seismic threats.\n",
      "   - The tracking and reporting on resilience outcomes for vulnerable populations and neighborhoods suggests a commitment to adapting strategies based on real-time data and outcomes, which is essential for effective adaptation.\n",
      "\n",
      "Overall, the plan integrates resilience, mitigation, and adaptation strategies through a comprehensive approach that prioritizes infrastructure investments, renewable energy expansion, and targeted support for vulnerable communities. These efforts collectively aim to enhance the community's capacity to deal with the effects of climate change while also working to prevent further climate impacts.\n",
      "\n",
      "**Does the plan describe a scenario of climate change the planning jurisdiction will face and for which it is planning climate policies for resilience, mitigation, and adaptation? If so, please summarize any such scenario.**\n",
      "The plan does not explicitly describe a specific scenario of climate change that the planning jurisdiction will face. Instead, it outlines general principles and approaches for integrating climate adaptation, hazard mitigation, recovery, and equity into land-use decisions and the General Plan. The focus is on encouraging resilience against various shocks and stresses, including disasters and economic shifts, without detailing specific climate scenarios or impacts.\n",
      "\n",
      "# Threats Questions\n",
      "**What climate impacts does the plan identify as presenting climate risks for the planning jurisdiction? For each identified climate impact, summarize the plan’s description of:\n",
      "    1. The climate impact.\n",
      "    2. The climate risks it poses to the planning jurisdiction.\n",
      "    3. Areas or populations with the most climate vulnerability to the identified climate impact.**\n",
      "The provided text does not explicitly identify specific climate impacts or describe their associated risks and vulnerabilities within the planning jurisdiction. Instead, it focuses primarily on the general principles guiding the incorporation of climate adaptation, hazard mitigation, and recovery into the General Plan, as well as the promotion of citywide resilience.\n",
      "\n",
      "However, based on typical climate adaptation and resilience plans, I can provide a hypothetical summary of what these sections might include:\n",
      "\n",
      "1. **Climate Impact: Increased Extreme Weather Events**\n",
      "   - **Description**: The plan may describe increased occurrences of extreme weather events such as hurricanes, floods, and heatwaves, which are becoming more frequent due to climate change.\n",
      "   - **Climate Risks**: These events pose significant risks to infrastructure, public health, and safety. They can lead to property damage, disruption of services, and increased emergency response costs.\n",
      "   - **Vulnerable Areas/Populations**: Low-lying neighborhoods, underserved communities, and those with limited access to resources or emergency services may be the most vulnerable to these extreme weather impacts.\n",
      "\n",
      "2. **Climate Impact: Rising Sea Levels**\n",
      "   - **Description**: The plan might indicate that rising sea levels threaten coastal areas due to melting ice caps and thermal expansion of seawater.\n",
      "   - **Climate Risks**: This can result in flooding, erosion, and loss of habitat. Communities may face displacement, loss of property, and threats to local economies that rely on coastal resources.\n",
      "   - **Vulnerable Areas/Populations**: Coastal neighborhoods, particularly those with lower socioeconomic status, are at higher risk as they may lack the resources to adapt or relocate.\n",
      "\n",
      "3. **Climate Impact: Increased Heat Waves**\n",
      "   - **Description**: The plan could highlight the increasing frequency and intensity of heat waves, which are exacerbated by urban heat island effects.\n",
      "   - **Climate Risks**: Higher temperatures can lead to health risks such as heat-related illnesses, increased energy demand, and strain on healthcare systems.\n",
      "   - **Vulnerable Areas/Populations**: Elderly residents, individuals with pre-existing health conditions, and those without access to air conditioning or green spaces are particularly vulnerable.\n",
      "\n",
      "4. **Climate Impact: Droughts and Water Scarcity**\n",
      "   - **Description**: The plan may mention more frequent and severe droughts affecting water supply and quality.\n",
      "   - **Climate Risks**: Water scarcity can impact agriculture, reduce water availability for residents, and lead to conflicts over resources.\n",
      "   - **Vulnerable Areas/Populations**: Agricultural communities and low-income households dependent on consistent water access are likely to experience the most significant impacts.\n",
      "\n",
      "For a comprehensive assessment, specific information on the climate impacts and their descriptions would be required from the actual plan.\n",
      "\n",
      "# Measure Questions\n",
      "**What resilience options does the plan identify? For each identified resilience option, summarize the information provided in the plan regarding cost, timing, location, and other important attributes.**\n",
      "The provided text does not explicitly list specific resilience options, nor does it provide details regarding cost, timing, location, or other attributes. Instead, it discusses the overarching themes and framework for resilience planning in Los Angeles, emphasizing the importance of collaboration, community engagement, and a unified call to action.\n",
      "\n",
      "To accurately extract resilience options and their attributes, I would need more detailed information or specific sections of the plan that enumerate the resilience options and provide the associated cost, timing, location, and other relevant details. If you have such sections available, please provide them, and I can assist you in summarizing that information.\n",
      "\n",
      "**What mitigation options does the plan identify? For each identified mitigation option, summarize the information provided in the plan regarding cost, timing, location, and other important attributes.**\n",
      "The provided text does not explicitly list any specific mitigation options along with their associated details such as cost, timing, location, or other attributes. The text primarily outlines general strategies and initiatives related to climate adaptation and resilience, including addressing local oil and gas infrastructure risks, implementing stormwater projects, protecting the Los Angeles River watershed, fortifying critical infrastructure, and enhancing public health systems.\n",
      "\n",
      "If the plan contains specific mitigation options with detailed attributes, that information is not included in the text provided. To identify and summarize mitigation options along with their characteristics, further details from the actual plan would be needed.\n",
      "\n",
      "\n"
     ]
    }
   ],
   "source": [
    "markdown_output += \"# Measure Questions\\n\"\n",
    "markdown_output += \"\".join(generate_responses(measures_questions))\n",
    "\n",
    "print(markdown_output)\n"
   ]
  },
  {
   "cell_type": "code",
   "execution_count": null,
   "id": "38552502-0788-4bb2-8bf7-ddfcbfabc352",
   "metadata": {},
   "outputs": [],
   "source": []
  },
  {
   "cell_type": "code",
   "execution_count": null,
   "id": "a7434be8-27cb-4b1f-9b6a-70ecb12cf4b9",
   "metadata": {},
   "outputs": [],
   "source": []
  },
  {
   "cell_type": "code",
   "execution_count": 164,
   "id": "2c4e76b6-b358-4882-8ab2-318f1a6fbcfc",
   "metadata": {},
   "outputs": [],
   "source": []
  }
 ],
 "metadata": {
  "kernelspec": {
   "display_name": "Python 3 (ipykernel)",
   "language": "python",
   "name": "python3"
  },
  "language_info": {
   "codemirror_mode": {
    "name": "ipython",
    "version": 3
   },
   "file_extension": ".py",
   "mimetype": "text/x-python",
   "name": "python",
   "nbconvert_exporter": "python",
   "pygments_lexer": "ipython3",
   "version": "3.12.4"
  }
 },
 "nbformat": 4,
 "nbformat_minor": 5
}
