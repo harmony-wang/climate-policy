{
 "cells": [
  {
   "cell_type": "code",
   "execution_count": 12,
   "id": "493fdff6-04f5-4e9d-87ea-51076b377d2a",
   "metadata": {},
   "outputs": [
    {
     "name": "stdout",
     "output_type": "stream",
     "text": [
      "\u001b[33mWarning:\u001b[0m pandoc 3.5 is already installed and up-to-date.\n",
      "To reinstall 3.5, run:\n",
      "  brew reinstall pandoc\n"
     ]
    }
   ],
   "source": [
    "!brew install pandoc"
   ]
  },
  {
   "cell_type": "code",
   "execution_count": 14,
   "id": "18dc760d-d53e-4caf-b7af-c77272beea86",
   "metadata": {},
   "outputs": [
    {
     "name": "stdout",
     "output_type": "stream",
     "text": [
      "\u001b[33mWarning:\u001b[0m Not upgrading basictex, the latest version is already installed\n"
     ]
    }
   ],
   "source": [
    "!brew install --cask basictex"
   ]
  },
  {
   "cell_type": "code",
   "execution_count": 22,
   "id": "b538e47f-2ec2-46c1-9af6-6ee01a2597d8",
   "metadata": {},
   "outputs": [],
   "source": [
    "!pandoc los_angeles_plan.md -V geometry:margin=1in -o los_angeles_plan.pdf"
   ]
  },
  {
   "cell_type": "code",
   "execution_count": null,
   "id": "1da08759-eb6c-48fb-b27c-20e7d353a345",
   "metadata": {},
   "outputs": [],
   "source": []
  }
 ],
 "metadata": {
  "kernelspec": {
   "display_name": "Python 3 (ipykernel)",
   "language": "python",
   "name": "python3"
  },
  "language_info": {
   "codemirror_mode": {
    "name": "ipython",
    "version": 3
   },
   "file_extension": ".py",
   "mimetype": "text/x-python",
   "name": "python",
   "nbconvert_exporter": "python",
   "pygments_lexer": "ipython3",
   "version": "3.12.4"
  }
 },
 "nbformat": 4,
 "nbformat_minor": 5
}
