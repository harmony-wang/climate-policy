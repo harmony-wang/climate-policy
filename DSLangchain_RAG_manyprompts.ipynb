{
 "cells": [
  {
   "cell_type": "code",
   "execution_count": 114,
   "id": "8c1caf54-e870-4b0c-a8d9-b7187555d8c7",
   "metadata": {},
   "outputs": [],
   "source": [
    "!pip install --quiet --upgrade langchain langchain-community langchain-chroma"
   ]
  },
  {
   "cell_type": "code",
   "execution_count": 115,
   "id": "a9558d89-ad6d-4575-b332-3e3b5bc67741",
   "metadata": {},
   "outputs": [],
   "source": [
    "import bs4\n",
    "from langchain import hub\n",
    "from langchain_chroma import Chroma\n",
    "from langchain_core.output_parsers import StrOutputParser\n",
    "from langchain_core.runnables import RunnablePassthrough\n",
    "from langchain_openai import OpenAIEmbeddings\n",
    "from langchain_text_splitters import RecursiveCharacterTextSplitter\n",
    "from langchain_community.document_loaders import PyPDFLoader"
   ]
  },
  {
   "cell_type": "code",
   "execution_count": 116,
   "id": "0d0c7179-b2e9-4c9c-b779-a142d187ca54",
   "metadata": {},
   "outputs": [],
   "source": [
    "import os\n",
    "import getpass"
   ]
  },
  {
   "cell_type": "code",
   "execution_count": 117,
   "id": "8884f609-ecd4-4e9d-b517-462a3dee6cb0",
   "metadata": {},
   "outputs": [
    {
     "name": "stdin",
     "output_type": "stream",
     "text": [
      " ········\n"
     ]
    }
   ],
   "source": [
    "!pip install -qU langchain-openai\n",
    "os.environ[\"LANGCHAIN_TRACING_V2\"] = \"false\"  \n",
    "os.environ[\"OPENAI_API_KEY\"] = getpass.getpass()\n",
    "from langchain_openai import ChatOpenAI\n",
    "llm = ChatOpenAI(model=\"gpt-4o-mini\")"
   ]
  },
  {
   "cell_type": "code",
   "execution_count": 118,
   "id": "cbffe0c6-b2e1-4e32-8c6f-2ad9ba7ef1c6",
   "metadata": {},
   "outputs": [
    {
     "name": "stdout",
     "output_type": "stream",
     "text": [
      "Requirement already satisfied: pypdf in /opt/anaconda3/lib/python3.12/site-packages (5.0.1)\n"
     ]
    }
   ],
   "source": [
    "!pip install pypdf\n",
    "import PyPDF2\n",
    "\n",
    "pdf_loader = PyPDFLoader(file_path='Resilient_LosAngeles_Plan.pdf') \n",
    "docs = pdf_loader.load()"
   ]
  },
  {
   "cell_type": "code",
   "execution_count": 119,
   "id": "e46f153a-9b50-49e8-b39b-d145d61644df",
   "metadata": {},
   "outputs": [
    {
     "data": {
      "text/plain": [
       "91"
      ]
     },
     "execution_count": 119,
     "metadata": {},
     "output_type": "execute_result"
    }
   ],
   "source": [
    "len(docs[0].page_content)"
   ]
  },
  {
   "cell_type": "code",
   "execution_count": 120,
   "id": "cb2320ea-82a9-4b94-9047-dce423d865d5",
   "metadata": {},
   "outputs": [
    {
     "data": {
      "text/plain": [
       "468"
      ]
     },
     "execution_count": 120,
     "metadata": {},
     "output_type": "execute_result"
    }
   ],
   "source": [
    "text_splitter = RecursiveCharacterTextSplitter(chunk_size=1000, chunk_overlap=200)\n",
    "all_splits = text_splitter.split_documents(docs)\n",
    "len(all_splits)"
   ]
  },
  {
   "cell_type": "code",
   "execution_count": 121,
   "id": "f384a230-0c16-4340-b17e-283c893fd07a",
   "metadata": {},
   "outputs": [],
   "source": [
    "from langchain_chroma import Chroma\n",
    "from langchain_openai import OpenAIEmbeddings\n",
    "\n",
    "vectorstore = Chroma.from_documents(documents=all_splits, embedding=OpenAIEmbeddings())"
   ]
  },
  {
   "cell_type": "code",
   "execution_count": 122,
   "id": "58a16a17-9fc7-4dd5-994d-6e5eefa60865",
   "metadata": {},
   "outputs": [
    {
     "data": {
      "text/plain": [
       "6"
      ]
     },
     "execution_count": 122,
     "metadata": {},
     "output_type": "execute_result"
    }
   ],
   "source": [
    "retriever = vectorstore.as_retriever(search_type=\"similarity\", search_kwargs={\"k\": 6})\n",
    "\n",
    "retrieved_docs = retriever.invoke(\"What Climate Threats?\")\n",
    "\n",
    "len(retrieved_docs)"
   ]
  },
  {
   "cell_type": "code",
   "execution_count": 123,
   "id": "cd500795-cd5a-4906-b713-352226c10606",
   "metadata": {},
   "outputs": [
    {
     "name": "stdout",
     "output_type": "stream",
     "text": [
      "Open Space\n",
      "  Disparities in Access to Transit\n",
      "  Food Insecurity\n",
      "Climate Adaptation\n",
      "Los Angeles is taking action to reduce the impact of future climate change, while also  \n",
      "preparing for and adapting to the already-changing environment. Over the past few years, Los Angeles has experienced a new normal, with record-breaking drought, heat, and storms; climate projections illustrate the future challenges with urban heat island, unpredictable snowpack, and sea level rise.\n",
      "  Climate Change\n",
      "  Air Quality/Pollution\n",
      "  Urban Heat Island\n",
      "  Extreme Heat  Drought\n",
      "  Severe Weather and Flooding\n",
      "  Sea Level Rise\n",
      "  Extreme Cold\n",
      "Infrastructure Modernization\n",
      "Los Angeles has a vast, complex, and aging infrastructure. The City is investing billions of dollars to restore, rebuild, and modernize the aging infrastructure to prevent existing infrastructure from failing and to meet the needs of a large and dynamic city.\n",
      "  Aging Infrastructure  Infrastructure or Building FailureShock Stress\n"
     ]
    }
   ],
   "source": [
    "print(retrieved_docs[0].page_content)"
   ]
  },
  {
   "cell_type": "code",
   "execution_count": 124,
   "id": "9bf30c49-a73a-430e-9563-c39072b00c77",
   "metadata": {},
   "outputs": [],
   "source": [
    "from langchain.chains import create_retrieval_chain\n",
    "from langchain.chains.combine_documents import create_stuff_documents_chain\n",
    "from langchain_core.prompts import ChatPromptTemplate"
   ]
  },
  {
   "cell_type": "code",
   "execution_count": 128,
   "id": "82fce141-349e-46f4-82e6-ab4f25273a64",
   "metadata": {},
   "outputs": [],
   "source": [
    "definitions = {\n",
    "    \"Climate Change\": \"A long-term shift in weather patterns and temperatures, primarily caused by human activities emitting greenhouse gases (GHGs).\",\n",
    "    \"Greenhouse Gases (GHGs)\": \"Atmospheric gases like CO₂, CH₄, N₂O that absorb and emit radiation, leading to the greenhouse effect.\",\n",
    "    \"Anthropogenic Emissions\": \"Emissions of GHGs resulting from human activities such as burning fossil fuels and deforestation.\",\n",
    "    \"Climate Impacts\": \"Consequences of climate-related hazards on natural and human systems, affecting lives, ecosystems, economies, and infrastructure.\",\n",
    "    \"Climate Risk\": \"Potential negative consequences from climate impacts, resulting from the interaction of hazard, exposure, and vulnerability.\",\n",
    "    \"Climate Vulnerability\": \"The degree to which a system is susceptible to harm from climate change and its ability to adapt.\",\n",
    "    \"Climate Policies\": \"Strategies and measures adopted to implement resilience, mitigation, and adaptation options.\",\n",
    "    \"Resilience\": \"The ability of systems to cope with climate hazards by maintaining essential functions and adapting to changes.\",\n",
    "    \"Resilience Options\": \"Strategies to build resilience through policy changes, infrastructure improvements, planning, etc.\",\n",
    "    \"Mitigation\": \"Efforts to reduce or prevent emission of GHGs.\",\n",
    "    \"Mitigation Options\": \"Technologies or practices that contribute to mitigation, like renewable energy or waste minimization.\",\n",
    "    \"Adaptation\": \"Adjusting systems to actual or expected climate changes to minimize harm or exploit beneficial opportunities.\",\n",
    "    \"Adaptation Options\": \"Strategies addressing climate change adaptation, including structural, institutional, ecological, and behavioral measures.\",\n",
    "    \"Climate Justice\": \"Ensuring equitable sharing of the burdens and benefits of climate change impacts.\",\n",
    "    \"Maladaptation\": \"Actions that may increase vulnerability to climate change or diminish resilience.\",\n",
    "    \"Scenario\": \"A plausible description of how the future may develop based on a coherent set of assumptions.\"\n",
    "}"
   ]
  },
  {
   "cell_type": "code",
   "execution_count": 129,
   "id": "c32441ec-a968-47c3-9893-b492d4679405",
   "metadata": {},
   "outputs": [],
   "source": [
    "normalized_definitions = {key.lower(): value for key, value in definitions.items()}\n",
    "definitions_context = \"\\n\".join([f\"{key}: {value}\" for key, value in definitions.items()])\n"
   ]
  },
  {
   "cell_type": "code",
   "execution_count": 130,
   "id": "e0492a70-624e-40bf-823a-1c32f2b7cab6",
   "metadata": {},
   "outputs": [
    {
     "name": "stdout",
     "output_type": "stream",
     "text": [
      "Prompt Structure: input_variables=['context', 'input'] input_types={} partial_variables={} messages=[SystemMessagePromptTemplate(prompt=PromptTemplate(input_variables=['context'], input_types={}, partial_variables={}, template=\"You are a researcher specializing in extracting climate-related information from climate adaptation and resilience plans.You are provided with a document (referred to as the 'plan') from a state or city in the United States (the 'planning jurisdiction')that has adopted policies addressing climate change, which may pertain to resilience, mitigation, and adaptation.Please provide a detailed answer to the following question and include citations in the format: (Chapter name, Section header if applicable, Page number). If any of these citation variables are missing, write N/A\\n\\n{context}Definitions:\\nClimate Change: A long-term shift in weather patterns and temperatures, primarily caused by human activities emitting greenhouse gases (GHGs).\\nGreenhouse Gases (GHGs): Atmospheric gases like CO₂, CH₄, N₂O that absorb and emit radiation, leading to the greenhouse effect.\\nAnthropogenic Emissions: Emissions of GHGs resulting from human activities such as burning fossil fuels and deforestation.\\nClimate Impacts: Consequences of climate-related hazards on natural and human systems, affecting lives, ecosystems, economies, and infrastructure.\\nClimate Risk: Potential negative consequences from climate impacts, resulting from the interaction of hazard, exposure, and vulnerability.\\nClimate Vulnerability: The degree to which a system is susceptible to harm from climate change and its ability to adapt.\\nClimate Policies: Strategies and measures adopted to implement resilience, mitigation, and adaptation options.\\nResilience: The ability of systems to cope with climate hazards by maintaining essential functions and adapting to changes.\\nResilience Options: Strategies to build resilience through policy changes, infrastructure improvements, planning, etc.\\nMitigation: Efforts to reduce or prevent emission of GHGs.\\nMitigation Options: Technologies or practices that contribute to mitigation, like renewable energy or waste minimization.\\nAdaptation: Adjusting systems to actual or expected climate changes to minimize harm or exploit beneficial opportunities.\\nAdaptation Options: Strategies addressing climate change adaptation, including structural, institutional, ecological, and behavioral measures.\\nClimate Justice: Ensuring equitable sharing of the burdens and benefits of climate change impacts.\\nMaladaptation: Actions that may increase vulnerability to climate change or diminish resilience.\\nScenario: A plausible description of how the future may develop based on a coherent set of assumptions.\"), additional_kwargs={}), HumanMessagePromptTemplate(prompt=PromptTemplate(input_variables=['input'], input_types={}, partial_variables={}, template='{input}'), additional_kwargs={})]\n"
     ]
    }
   ],
   "source": [
    "system_prompt = (\n",
    "    \"You are a researcher specializing in extracting climate-related information from climate adaptation and resilience plans.\"\n",
    "    \"You are provided with a document (referred to as the 'plan') from a state or city in the United States (the 'planning jurisdiction')that has adopted policies addressing climate change, which may pertain to resilience, mitigation, and adaptation.\"\n",
    "    \"Please provide a detailed answer to the following question and include citations in the format: (Chapter name, Section header if applicable, Page number). If any of these citation variables are missing, write N/A\"\n",
    "    \"\\n\\n\"\n",
    "    \"{context}\"\n",
    "    \"Definitions:\\n\"\n",
    "    f\"{definitions_context}\"\n",
    ")\n",
    "\n",
    "prompt = ChatPromptTemplate.from_messages(\n",
    "    [\n",
    "        (\"system\", system_prompt),\n",
    "        (\"human\", \"{input}\"),\n",
    "    ]\n",
    ")\n",
    "print(\"Prompt Structure:\", prompt)\n",
    "\n",
    "question_answer_chain = create_stuff_documents_chain(llm, prompt)\n",
    "rag_chain = create_retrieval_chain(retriever, question_answer_chain)\n"
   ]
  },
  {
   "cell_type": "code",
   "execution_count": 131,
   "id": "9ceb6cb5-11ef-434c-aa8f-13c33d4baa11",
   "metadata": {},
   "outputs": [],
   "source": [
    "import pandas as pd\n",
    "questions_df = pd.read_csv(\"Question_Prompts.csv\")\n",
    "\n",
    "# Extract the 'Question' column (or whichever column contains your questions)\n",
    "questions = questions_df['Question'].tolist()"
   ]
  },
  {
   "cell_type": "code",
   "execution_count": 228,
   "id": "825b7982-2800-4b54-a2ae-79b2fa3e0cfd",
   "metadata": {},
   "outputs": [
    {
     "name": "stdout",
     "output_type": "stream",
     "text": [
      "### Output for Question 1\n",
      "\n",
      "**Provide a summary of information available from the plan regarding the planning jurisdiction, including its name, location, population, geography, major industries, per capita income, and similar information.**\n",
      "N/A\n",
      "\n"
     ]
    }
   ],
   "source": [
    "question_1 = questions[0]\n",
    "response_1 = rag_chain.invoke({\"input\": question_1.lower()})\n",
    "output_1 = f\"### Output for Question 1\\n\\n**{question_1}**\\n{response_1['answer']}\\n\"\n",
    "print(f\"### Output for Question 1\\n\\n**{question_1}**\\n{response_1['answer']}\\n\")"
   ]
  },
  {
   "cell_type": "code",
   "execution_count": 224,
   "id": "c44fd4cf-adf0-4bff-a365-618fc4e3192d",
   "metadata": {},
   "outputs": [
    {
     "name": "stdout",
     "output_type": "stream",
     "text": [
      "### Output for Question 2\n",
      "\n",
      "**To what extent does the plan address resilience, mitigation, and adaptation?**\n",
      "The plan addresses resilience, mitigation, and adaptation through a multifaceted approach that incorporates various strategies and guiding principles aimed at enhancing the city’s ability to cope with climate-related challenges.\n",
      "\n",
      "1. **Resilience**: The plan emphasizes the importance of resilience by proposing the inclusion of a guiding principle in the General Plan that focuses on land-use decisions. This principle aims to enhance the recovery capabilities of individuals, neighborhoods, and economic systems from disasters, climate change impacts, and economic shifts (N/A). The plan also outlines specific areas of resilience, including Energy, Transportation and Land Use, Ocean and Coastal Resources, Water, and Public Health, indicating a comprehensive approach to resilience planning (N/A).\n",
      "\n",
      "2. **Mitigation**: While the plan primarily focuses on adaptation and resilience, it implicitly supports mitigation through the promotion of sustainable land-use practices and infrastructure planning. By encouraging decisions that consider climate change impacts and strive for long-term capital planning, the plan aims to minimize greenhouse gas emissions and reduce the city’s overall carbon footprint (N/A).\n",
      "\n",
      "3. **Adaptation**: Adaptation is a central theme in the plan, as it explicitly calls for the incorporation of climate adaptation strategies into the General Plan. This includes hazard mitigation and recovery efforts, which are essential for adjusting to the projected impacts of climate change (N/A). The plan also provides a guidebook that details regional climate science impacts, which serves as a resource for local practitioners to make informed adaptation choices (N/A).\n",
      "\n",
      "Overall, the plan comprehensively addresses resilience, mitigation, and adaptation through a structured framework that integrates climate considerations into land-use and infrastructure planning, promoting equity and long-term sustainability in response to climate change challenges.\n",
      "\n"
     ]
    }
   ],
   "source": [
    "question_2 = questions[1]\n",
    "response_2 = rag_chain.invoke({\"input\": question_2.lower()})\n",
    "output_2 = f\"### Output for Question 2\\n\\n**{question_2}**\\n{response_2['answer']}\\n\"\n",
    "print(f\"### Output for Question 2\\n\\n**{question_2}**\\n{response_2['answer']}\\n\")"
   ]
  },
  {
   "cell_type": "code",
   "execution_count": 234,
   "id": "0cfc549e-f3c6-48f0-976f-ca1014a07bdf",
   "metadata": {},
   "outputs": [
    {
     "name": "stdout",
     "output_type": "stream",
     "text": [
      "### Output for Question 3\n",
      "\n",
      "**Does the plan describe a scenario of climate change the planning jurisdiction will face and for which it is planning climate policies for resilience, mitigation, and adaptation? If so, please summarize any such scenario.**\n",
      "The provided text does not explicitly describe a specific scenario of climate change that the planning jurisdiction will face. Instead, it emphasizes the need for the General Plan to incorporate climate adaptation, hazard mitigation, and recovery strategies aimed at improving resilience against various shocks and stresses, including those resulting from climate change, economic shifts, and disasters. The focus is on encouraging land-use decisions that enhance the ability of individuals and communities to recover from such events, although specific climate scenarios or projected impacts are not detailed.\n",
      "\n",
      "The text mentions that the Framework addresses resilience in areas such as Energy, Transportation and Land Use, Ocean and Coastal Resources, Water, and Public Health, which suggests a broad consideration of climate-related challenges. However, without specific details about projected climate impacts or scenarios, it is clear that the jurisdiction is preparing for a range of potential climate-related issues rather than detailing a particular scenario (N/A).\n",
      "\n"
     ]
    }
   ],
   "source": [
    "question_3 = questions[2]\n",
    "response_3 = rag_chain.invoke({\"input\": question_3.lower()})\n",
    "output_3 = f\"### Output for Question 3\\n\\n**{question_3}**\\n{response_3['answer']}\\n\"\n",
    "print(f\"### Output for Question 3\\n\\n**{question_3}**\\n{response_3['answer']}\\n\")"
   ]
  },
  {
   "cell_type": "code",
   "execution_count": 235,
   "id": "11c87103-6767-4954-8fb3-13fa89e2ddd2",
   "metadata": {},
   "outputs": [
    {
     "name": "stdout",
     "output_type": "stream",
     "text": [
      "### Output for Question 4\n",
      "\n",
      "**What climate impacts does the plan identify as presenting climate risks for the planning jurisdiction?**\n",
      "The plan identifies various climate impacts that pose climate risks for the planning jurisdiction, particularly focusing on the following areas:\n",
      "\n",
      "1. **Energy**: The impact of climate change on energy systems, including the reliability and sustainability of energy supply amidst changing climate conditions.\n",
      "\n",
      "2. **Transportation and Land Use**: Risks associated with climate impacts on transportation infrastructure and planning, which could affect mobility and accessibility.\n",
      "\n",
      "3. **Ocean and Coastal Resources**: The implications of rising sea levels, coastal erosion, and increased storm intensity that threaten coastal ecosystems and communities.\n",
      "\n",
      "4. **Water**: Challenges related to water supply, quality, and management, exacerbated by changing precipitation patterns and increased drought frequency.\n",
      "\n",
      "5. **Public Health**: The potential health risks stemming from climate change, including heat-related illnesses, vector-borne diseases, and impacts on mental health due to climate-related disasters.\n",
      "\n",
      "These areas illustrate how climate change can affect both natural and human systems, leading to significant vulnerabilities that need to be addressed through adaptive strategies (N/A).\n",
      "\n"
     ]
    }
   ],
   "source": [
    "question_4 = questions[3]\n",
    "response_4 = rag_chain.invoke({\"input\": question_4.lower()})\n",
    "output_4 = f\"### Output for Question 4\\n\\n**{question_4}**\\n{response_4['answer']}\\n\"\n",
    "print(f\"### Output for Question 4\\n\\n**{question_4}**\\n{response_4['answer']}\\n\")"
   ]
  },
  {
   "cell_type": "code",
   "execution_count": 244,
   "id": "d8dee9f7-28e2-42bf-9915-bd2013d0ae20",
   "metadata": {},
   "outputs": [
    {
     "name": "stdout",
     "output_type": "stream",
     "text": [
      "### Output for Question 5\n",
      "\n",
      "**For each identified climate impact, summarize the plan’s description of: The climate impact, the climate risks it poses to the planning jurisdiction, and areas or populations with the most climate vulnerability to the identified climate impact.**\n",
      "The provided text does not explicitly enumerate specific climate impacts, climate risks, or vulnerable areas/populations. However, it does outline general strategies and actions the City of Los Angeles plans to implement to address climate change impacts. Based on the information available, I can summarize the implicit climate impacts and associated risks as follows:\n",
      "\n",
      "1. **Urban Heat Island Effect**\n",
      "   - **Climate Impact:** The plan mentions the development and implementation of urban heat island reduction plans and demonstration projects.\n",
      "   - **Climate Risks:** Increased temperatures due to urban heat can lead to health risks, particularly for vulnerable populations such as the elderly, children, and those with pre-existing health conditions. It may also exacerbate energy demand for cooling.\n",
      "   - **Vulnerable Areas/Populations:** The plan indicates a focus on the most vulnerable neighborhoods, which likely include those with less access to green spaces and lower socioeconomic status, making residents more susceptible to heat-related health issues.\n",
      "\n",
      "2. **Access to Green Space**\n",
      "   - **Climate Impact:** The plan emphasizes increasing access to green space and open space, indicating a recognition of the need for natural areas to mitigate climate impacts.\n",
      "   - **Climate Risks:** Lack of green space can lead to increased heat retention, diminished air quality, and reduced community resilience to climate hazards.\n",
      "   - **Vulnerable Areas/Populations:** Underserved neighborhoods, which may already experience inequities in access to resources and services, are identified as areas needing improvement in green space access.\n",
      "\n",
      "3. **Greenhouse Gas Emissions**\n",
      "   - **Climate Impact:** The plan aims to accelerate reductions in greenhouse gas emissions to meet climate resilience outcomes.\n",
      "   - **Climate Risks:** High levels of greenhouse gas emissions contribute to climate change, leading to more frequent and severe weather events, sea-level rise, and other long-term environmental changes.\n",
      "   - **Vulnerable Areas/Populations:** The plan does not specify particular populations but implies that all communities, especially those already facing socioeconomic challenges, may be at higher risk due to inadequate infrastructure to cope with the effects of climate change.\n",
      "\n",
      "4. **Infrastructure Vulnerability**\n",
      "   - **Climate Impact:** The plan includes initiatives for infrastructure modernization and applying resilience criteria to capital planning.\n",
      "   - **Climate Risks:** Aging and insufficient infrastructure can be more susceptible to climate impacts such as flooding, heat, and storms, leading to service disruptions and increased vulnerability for residents.\n",
      "   - **Vulnerable Areas/Populations:** Specific neighborhoods that lack robust infrastructure and services are likely to be the most affected, potentially impacting lower-income communities disproportionately.\n",
      "\n",
      "5. **Development of Resilience Hubs**\n",
      "   - **Climate Impact:** The establishment of resilience hubs in vulnerable neighborhoods by 2028 aims to provide community support during climate events.\n",
      "   - **Climate Risks:** Without resilience hubs, communities may lack critical resources and support during climate emergencies, leading to increased risks of harm and inadequate recovery.\n",
      "   - **Vulnerable Areas/Populations:** The plan specifically targets the most vulnerable neighborhoods, indicating that these areas face challenges in emergency preparedness and response.\n",
      "\n",
      "In summary, while the plan outlines numerous initiatives to address climate impacts, it does not provide detailed descriptions of specific climate impacts, associated risks, or explicitly identified vulnerable populations. Instead, it emphasizes a general approach to enhancing community resilience and adapting to the diverse challenges posed by climate change across Los Angeles (N/A).\n",
      "\n"
     ]
    }
   ],
   "source": [
    "question_5 = questions[4]\n",
    "response_5 = rag_chain.invoke({\"input\": question_5.lower()})\n",
    "output_5 = f\"### Output for Question 5\\n\\n**{question_5}**\\n{response_5['answer']}\\n\"\n",
    "print(f\"### Output for Question 5\\n\\n**{question_5}**\\n{response_5['answer']}\\n\")"
   ]
  },
  {
   "cell_type": "code",
   "execution_count": 245,
   "id": "3e42b397-fda6-4fa8-8fc0-573d764fa9df",
   "metadata": {},
   "outputs": [
    {
     "name": "stdout",
     "output_type": "stream",
     "text": [
      "### Output for Question 6\n",
      "\n",
      "**What resilience options does the plan identify? Summarize cost, timing, location, and important attributes.**\n",
      "The plan identifies several resilience options organized around key themes: Energy, Transportation and Land Use, Ocean and Coastal Resources, Water, and Public Health. Here is a summary of these options along with their cost, timing, location, and important attributes:\n",
      "\n",
      "1. **Energy**\n",
      "   - **Cost**: Varies based on specific projects and technologies adopted.\n",
      "   - **Timing**: Short-term to long-term, depending on the specific initiatives.\n",
      "   - **Location**: City-wide, focusing on energy infrastructure and community access.\n",
      "   - **Important Attributes**: Emphasis on renewable energy sources, energy efficiency, and energy storage solutions to enhance reliability during climate events.\n",
      "\n",
      "2. **Transportation and Land Use**\n",
      "   - **Cost**: Costs can range from moderate to high, depending on infrastructure changes.\n",
      "   - **Timing**: Medium to long-term implementation.\n",
      "   - **Location**: Urban areas and transportation corridors throughout Los Angeles.\n",
      "   - **Important Attributes**: Promotes sustainable transportation options, improved public transit systems, and land use planning that considers climate resilience.\n",
      "\n",
      "3. **Ocean and Coastal Resources**\n",
      "   - **Cost**: Costs associated with coastal protection and restoration projects can be substantial.\n",
      "   - **Timing**: Long-term projects due to the complexity of coastal management.\n",
      "   - **Location**: Coastal regions and river systems, particularly the LA River.\n",
      "   - **Important Attributes**: Focus on ecosystem restoration, flood protection measures, and sustainable management of coastal resources to adapt to rising sea levels.\n",
      "\n",
      "4. **Water**\n",
      "   - **Cost**: Varies widely; investments in infrastructure can be costly.\n",
      "   - **Timing**: Short-term to long-term, with urgent needs in some areas.\n",
      "   - **Location**: City-wide, with emphasis on vulnerable areas.\n",
      "   - **Important Attributes**: Enhancements in water conservation, stormwater management, and water quality improvements to ensure resilience against droughts and floods.\n",
      "\n",
      "5. **Public Health**\n",
      "   - **Cost**: Costs associated with health initiatives can be moderate to high.\n",
      "   - **Timing**: Short-term actions with ongoing long-term strategies.\n",
      "   - **Location**: City-wide, focusing on communities at higher risk.\n",
      "   - **Important Attributes**: Strategies include improving healthcare access, community outreach programs, and initiatives to address health impacts from climate change, such as heatwaves and air quality issues.\n",
      "\n",
      "Overall, the resilience options proposed in the plan aim to create a comprehensive and integrated approach to climate adaptation and resilience that aligns with community needs and leverages local partnerships. This ensures that the resilience strategies are actionable and relevant to the unique challenges faced by Los Angeles (N/A).\n",
      "\n"
     ]
    }
   ],
   "source": [
    "question_6 = questions[5]\n",
    "response_6 = rag_chain.invoke({\"input\": question_6.lower()})\n",
    "output_6 = f\"### Output for Question 6\\n\\n**{question_6}**\\n{response_6['answer']}\\n\"\n",
    "print(f\"### Output for Question 6\\n\\n**{question_6}**\\n{response_6['answer']}\\n\")"
   ]
  },
  {
   "cell_type": "code",
   "execution_count": 246,
   "id": "78f66e6a-052f-4291-a245-4392ca9cb180",
   "metadata": {},
   "outputs": [
    {
     "name": "stdout",
     "output_type": "stream",
     "text": [
      "### Output for Question 7\n",
      "\n",
      "**What mitigation options does the plan identify? Summarize cost, timing, location, and important attributes.**\n",
      "The provided excerpt does not explicitly detail specific mitigation options, but it does mention strategies and guiding principles that imply integration of climate adaptation and hazard mitigation within the General Plan and Zoning Code. Here’s a summary based on the information available:\n",
      "\n",
      "1. **Guiding Principle for Land-Use Decisions**\n",
      "   - **Cost**: N/A\n",
      "   - **Timing**: Short Term\n",
      "   - **Location**: Citywide\n",
      "   - **Important Attributes**: Encourages land-use decisions that enhance resilience, aiding recovery from disasters and climate change impacts, while also addressing equity and long-term capital planning (N/A).\n",
      "\n",
      "2. **Funding Pathways for Resilience**\n",
      "   - **Cost**: Potentially significant investment; specific amounts not detailed.\n",
      "   - **Timing**: Medium Term\n",
      "   - **Location**: City and regional infrastructure\n",
      "   - **Important Attributes**: Involves collaboration with local, state, and federal partners, focusing on developing a Statewide Seismic Resilience Bond Measure to fortify critical infrastructure, thereby generating substantial risk reduction benefits (N/A).\n",
      "\n",
      "3. **Fortification of Critical Lifeline Infrastructure**\n",
      "   - **Cost**: N/A\n",
      "   - **Timing**: Medium Term\n",
      "   - **Location**: Critical infrastructure including ports, airports, and highway corridors (e.g., Cajon Pass)\n",
      "   - **Important Attributes**: Focused on ensuring the flow of essential goods and services post-emergency, requiring continued assessments and coordination with various governmental agencies (N/A).\n",
      "\n",
      "Overall, while specific mitigation options are not outlined in detail, the plan emphasizes strategic land-use planning, funding for resilience initiatives, and the fortification of infrastructure as key themes for addressing climate change impacts.\n",
      "\n"
     ]
    }
   ],
   "source": [
    "question_7 = questions[6]\n",
    "response_7 = rag_chain.invoke({\"input\": question_7.lower()})\n",
    "output_7 = f\"### Output for Question 7\\n\\n**{question_7}**\\n{response_7['answer']}\\n\"\n",
    "print(f\"### Output for Question 7\\n\\n**{question_7}**\\n{response_7['answer']}\\n\")"
   ]
  },
  {
   "cell_type": "code",
   "execution_count": 248,
   "id": "452e89c7-f891-4fff-a2b0-713cc63268ea",
   "metadata": {},
   "outputs": [
    {
     "name": "stdout",
     "output_type": "stream",
     "text": [
      "### Output for Question 8\n",
      "\n",
      "**What adaptation options does the plan identify? Summarize cost, timing, location, and important attributes.**\n",
      "The plan identifies several adaptation options across different sectors, focusing on enhancing resilience to climate impacts. Here’s a summary of the identified adaptation options, including aspects of cost, timing, location, and important attributes:\n",
      "\n",
      "1. **Land-Use Decisions**\n",
      "   - **Cost**: Not specified\n",
      "   - **Timing**: Short Term\n",
      "   - **Location**: Citywide\n",
      "   - **Important Attributes**: Incorporating climate adaptation, hazard mitigation, and recovery into the General Plan; leveraging long-term capital planning for infrastructure investment; promoting equity through improved land-use decisions (N/A).\n",
      "\n",
      "2. **Energy Resilience**\n",
      "   - **Cost**: Not specified\n",
      "   - **Timing**: Not specified\n",
      "   - **Location**: Citywide\n",
      "   - **Important Attributes**: Addressing energy systems to improve resilience against climate impacts, ensuring the reliability of energy supply in the face of climate-related disruptions (N/A).\n",
      "\n",
      "3. **Transportation and Land Use**\n",
      "   - **Cost**: Not specified\n",
      "   - **Timing**: Not specified\n",
      "   - **Location**: Citywide\n",
      "   - **Important Attributes**: Enhancing transportation infrastructure to withstand climate impacts; promoting sustainable land-use strategies that support resilience (N/A).\n",
      "\n",
      "4. **Ocean and Coastal Resources**\n",
      "   - **Cost**: Not specified\n",
      "   - **Timing**: Not specified\n",
      "   - **Location**: Coastal areas\n",
      "   - **Important Attributes**: Protecting and restoring coastal ecosystems; implementing measures to mitigate risks from sea-level rise and coastal flooding (N/A).\n",
      "\n",
      "5. **Water Management**\n",
      "   - **Cost**: Not specified\n",
      "   - **Timing**: Not specified\n",
      "   - **Location**: Citywide\n",
      "   - **Important Attributes**: Enhancing water conservation and management practices to adapt to changing precipitation patterns; improving infrastructure to handle extreme weather events (N/A).\n",
      "\n",
      "6. **Public Health**\n",
      "   - **Cost**: Not specified\n",
      "   - **Timing**: Not specified\n",
      "   - **Location**: Citywide\n",
      "   - **Important Attributes**: Developing public health initiatives to address climate-related health risks; ensuring community readiness and response to climate impacts (N/A).\n",
      "\n",
      "Overall, while the plan outlines various adaptation strategies, it lacks specific details regarding the estimated costs and precise timing for implementation. Nonetheless, it emphasizes a collaborative approach involving local practitioners and city departments to ensure effective adaptation to climate change (N/A).\n",
      "\n"
     ]
    }
   ],
   "source": [
    "question_8 = questions[7]\n",
    "response_8 = rag_chain.invoke({\"input\": question_8.lower()})\n",
    "output_8 = f\"### Output for Question 8\\n\\n**{question_8}**\\n{response_8['answer']}\\n\"\n",
    "print(f\"### Output for Question 8\\n\\n**{question_8}**\\n{response_8['answer']}\\n\")"
   ]
  },
  {
   "cell_type": "code",
   "execution_count": 250,
   "id": "6c5a1bc6-fdf0-4a8d-bc42-96f0ffca0262",
   "metadata": {},
   "outputs": [
    {
     "name": "stdout",
     "output_type": "stream",
     "text": [
      "### Output for Question 9\n",
      "\n",
      "**What climate policies does the plan identify to advance climate justice? Summarize populations vulnerable to the identified climate impact.**\n",
      "The plan identifies several climate policies aimed at advancing climate justice, which include:\n",
      "\n",
      "1. **Incorporation of Equity into the General Plan**: The plan emphasizes the need to integrate climate adaptation, hazard mitigation, and recovery efforts with a focus on increasing equity in long-term capital planning for infrastructure investment (N/A).\n",
      "\n",
      "2. **Development of Resilience Hubs**: A specific initiative is to develop resilience hubs in the city’s most vulnerable neighborhoods by 2028. This aims to provide resources and support to communities that are disproportionately affected by climate impacts (N/A).\n",
      "\n",
      "3. **Access to Green Space**: The plan includes efforts to increase access to green and open spaces, particularly through investments along the Los Angeles River system and in underserved neighborhoods by 2028. This initiative is designed to benefit communities that lack adequate green infrastructure (N/A).\n",
      "\n",
      "4. **Equitable Tree Canopy Coverage**: The plan specifies increasing equitable tree canopy coverage by 2028, which is crucial for reducing urban heat and improving air quality in disadvantaged areas (N/A).\n",
      "\n",
      "5. **Urban Heat Island Reduction Plans**: The development and implementation of urban heat island reduction plans and demonstration projects specifically in vulnerable neighborhoods by 2022 is another policy aimed at mitigating climate impacts (N/A).\n",
      "\n",
      "In terms of vulnerable populations, the plan highlights:\n",
      "\n",
      "- **Neighborhoods with Limited Resources**: These include communities that may lack adequate infrastructure, economic means, or social support systems to effectively respond to climate-related hazards.\n",
      "  \n",
      "- **Low-Income Communities**: Populations in low-income areas are more likely to experience exacerbated impacts from climate change due to pre-existing vulnerabilities such as poor housing conditions and limited access to healthcare.\n",
      "\n",
      "- **Communities of Color**: These populations often face systemic inequities that make them more susceptible to climate impacts, such as higher exposure to pollution and less access to green spaces.\n",
      "\n",
      "Overall, the plan recognizes that marginalized communities will bear the brunt of climate change effects and emphasizes the importance of targeted interventions to promote resilience and equity (N/A).\n",
      "\n"
     ]
    }
   ],
   "source": [
    "question_9 = questions[8]\n",
    "response_9 = rag_chain.invoke({\"input\": question_9.lower()})\n",
    "output_9 = f\"### Output for Question 9\\n\\n**{question_9}**\\n{response_9['answer']}\\n\"\n",
    "print(f\"### Output for Question 9\\n\\n**{question_9}**\\n{response_9['answer']}\\n\")"
   ]
  },
  {
   "cell_type": "code",
   "execution_count": 252,
   "id": "ae775876-5ef6-4ef9-876b-f4ae5597df7a",
   "metadata": {},
   "outputs": [
    {
     "name": "stdout",
     "output_type": "stream",
     "text": [
      "### Output for Question 10\n",
      "\n",
      "**Is there any climate policy identified in the plan that could be a potential maladaptation? Summarize the resilience, mitigation, or adaptation option.**\n",
      "The plan identifies several actions aimed at climate adaptation and resilience, but there is a potential risk of maladaptation associated with the development of an Urban Heat Vulnerability Index and Mitigation Plan (Action 2.32). While the intention behind this action is to prepare for higher temperatures and more frequent extreme heat events, there are considerations that could lead to maladaptive outcomes if not carefully managed.\n",
      "\n",
      "For instance, if the Urban Heat Vulnerability Index prioritizes certain neighborhoods for interventions without considering the socio-economic dynamics or existing environmental conditions, it could unintentionally exacerbate inequalities. Communities that are already vulnerable may not receive adequate resources or attention, leading to a situation where interventions fail to improve overall resilience and may even worsen the living conditions for the most at-risk populations.\n",
      "\n",
      "Similarly, the implementation of neighborhood cooling strategies (Action 2.33) without community engagement could result in solutions that do not fit the local context or needs, potentially leading to ineffective or even harmful outcomes. For example, excessive reliance on artificial cooling solutions could lead to increased energy consumption and greenhouse gas emissions, counteracting mitigation efforts.\n",
      "\n",
      "Thus, while the actions aim to enhance resilience and adaptability to climate change, careful consideration must be given to ensure that they do not inadvertently create conditions that increase vulnerability or exacerbate existing social inequities (Appendix B: Summary of Actions by Interest Area, Page 167).\n",
      "\n"
     ]
    }
   ],
   "source": [
    "question_10 = questions[9]\n",
    "response_10 = rag_chain.invoke({\"input\": question_10.lower()})\n",
    "output_10 = f\"### Output for Question 10\\n\\n**{question_10}**\\n{response_10['answer']}\\n\"\n",
    "print(f\"### Output for Question 10\\n\\n**{question_10}**\\n{response_10['answer']}\\n\")"
   ]
  },
  {
   "cell_type": "code",
   "execution_count": 253,
   "id": "a4a77986-eb2f-45e8-a8a2-a8ac4285c789",
   "metadata": {},
   "outputs": [
    {
     "name": "stdout",
     "output_type": "stream",
     "text": [
      "### Output for Question 11\n",
      "\n",
      "**Summarize the plan's description of how the planning jurisdiction will monitor and evaluate progress on the implementation of resilience, mitigation, and adaptation options.**\n",
      "The plan outlines that the City will measure and track outcomes related to resilience, mitigation, and adaptation options over the long term. This systematic monitoring will allow the City to focus on achieving progress toward resilience goals, ensuring that the initiatives integrated into the General Plan and Zoning Code effectively contribute to climate adaptation, hazard mitigation, and recovery efforts (Goal 8, Page number N/A). The emphasis is placed on continuous evaluation to ensure that land-use decisions and planning documents are aligned with the objectives of enhancing resilience for vulnerable communities and systems (Goal 8, Page number N/A).\n",
      "\n"
     ]
    }
   ],
   "source": [
    "question_11 = questions[10]\n",
    "response_11 = rag_chain.invoke({\"input\": question_11.lower()})\n",
    "output_11 = f\"### Output for Question 11\\n\\n**{question_11}**\\n{response_11['answer']}\\n\"\n",
    "print(f\"### Output for Question 11\\n\\n**{question_11}**\\n{response_11['answer']}\\n\")"
   ]
  },
  {
   "cell_type": "code",
   "execution_count": 254,
   "id": "88bedbd1-39b8-45cb-b52e-317a2c852fb2",
   "metadata": {},
   "outputs": [
    {
     "name": "stdout",
     "output_type": "stream",
     "text": [
      "### Output for Question 12\n",
      "\n",
      "**Generate a table that summarizes the following features from the document: Location/City Name, Population, Threats Identified, Measures Identified.**\n",
      "Here is a table summarizing the features from the provided document:\n",
      "\n",
      "| Feature                | Details                              |\n",
      "|-----------------------|--------------------------------------|\n",
      "| Location/City Name    | N/A (not specified in the document) |\n",
      "| Population            | N/A (not specified in the document) |\n",
      "| Threats Identified    | 1. Disasters (e.g., earthquakes)   |\n",
      "|                       | 2. Climate change impacts (e.g., extreme heat) |\n",
      "|                       | 3. Economic shifts                   |\n",
      "| Measures Identified    | 1. Incorporate climate adaptation into the General Plan |\n",
      "|                       | 2. Adopt emergency land-use tools   |\n",
      "|                       | 3. Develop urban heat vulnerability index and mitigation plan |\n",
      "|                       | 4. Neighborhood retrofit pilot program for cooling strategies |\n",
      "|                       | 5. Plant trees in communities with fewer trees |\n",
      "|                       | 6. Develop citywide equity indicators |\n",
      "|                       | 7. Support linguistically inclusive and culturally competent systems and services |\n",
      "|                       | 8. Innovate resilient and sustainable buildings with \"Building Forward L.A.\" |\n",
      "\n",
      "Note: The location/city name and population were not provided in the document, hence marked as N/A.\n",
      "\n"
     ]
    }
   ],
   "source": [
    "question_12 = questions[11]\n",
    "response_12 = rag_chain.invoke({\"input\": question_12.lower()})\n",
    "output_12 = f\"### Output for Question 12\\n\\n**{question_12}**\\n{response_12['answer']}\\n\"\n",
    "print(f\"### Output for Question 12\\n\\n**{question_12}**\\n{response_12['answer']}\\n\")"
   ]
  },
  {
   "cell_type": "code",
   "execution_count": 262,
   "id": "14c47a57-3bff-4728-8db1-57cc45ef94c1",
   "metadata": {},
   "outputs": [],
   "source": [
    "merged_response = output_1 + output_2 + output_3 + output_4 + output_5 + output_6 + output_7 + output_8 + output_9 + output_10 + output_11 + output_12"
   ]
  },
  {
   "cell_type": "code",
   "execution_count": 264,
   "id": "d136cbe2-f78e-4f8f-b6e3-46b19b1f42db",
   "metadata": {},
   "outputs": [
    {
     "name": "stdout",
     "output_type": "stream",
     "text": [
      "Markdown document created: los_angeles_plan_manyqueries.md\n"
     ]
    }
   ],
   "source": [
    "with open(\"los_angeles_plan_manyqueries.md\", \"w\") as file:\n",
    "    file.write(merged_response)\n",
    "print(\"Markdown document created: los_angeles_plan_manyqueries.md\")"
   ]
  },
  {
   "cell_type": "code",
   "execution_count": null,
   "id": "b50bd4c0-b2f4-4f46-9b55-18037883e413",
   "metadata": {},
   "outputs": [],
   "source": []
  }
 ],
 "metadata": {
  "kernelspec": {
   "display_name": "Python 3 (ipykernel)",
   "language": "python",
   "name": "python3"
  },
  "language_info": {
   "codemirror_mode": {
    "name": "ipython",
    "version": 3
   },
   "file_extension": ".py",
   "mimetype": "text/x-python",
   "name": "python",
   "nbconvert_exporter": "python",
   "pygments_lexer": "ipython3",
   "version": "3.12.4"
  }
 },
 "nbformat": 4,
 "nbformat_minor": 5
}
