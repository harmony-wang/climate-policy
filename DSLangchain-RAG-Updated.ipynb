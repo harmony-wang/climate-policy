{
 "cells": [
  {
   "cell_type": "code",
   "execution_count": 19,
   "id": "8c1caf54-e870-4b0c-a8d9-b7187555d8c7",
   "metadata": {},
   "outputs": [],
   "source": [
    "!pip install --quiet --upgrade langchain langchain-community langchain-chroma"
   ]
  },
  {
   "cell_type": "code",
   "execution_count": 22,
   "id": "a9558d89-ad6d-4575-b332-3e3b5bc67741",
   "metadata": {},
   "outputs": [],
   "source": [
    "import bs4\n",
    "from langchain import hub\n",
    "from langchain_chroma import Chroma\n",
    "from langchain_core.output_parsers import StrOutputParser\n",
    "from langchain_core.runnables import RunnablePassthrough\n",
    "from langchain_openai import OpenAIEmbeddings\n",
    "from langchain_text_splitters import RecursiveCharacterTextSplitter\n",
    "from langchain_community.document_loaders import PyPDFLoader"
   ]
  },
  {
   "cell_type": "code",
   "execution_count": 24,
   "id": "0d0c7179-b2e9-4c9c-b779-a142d187ca54",
   "metadata": {},
   "outputs": [],
   "source": [
    "import os\n",
    "import getpass"
   ]
  },
  {
   "cell_type": "code",
   "execution_count": 26,
   "id": "8884f609-ecd4-4e9d-b517-462a3dee6cb0",
   "metadata": {},
   "outputs": [
    {
     "name": "stdin",
     "output_type": "stream",
     "text": [
      " ········\n"
     ]
    }
   ],
   "source": [
    "!pip install -qU langchain-openai\n",
    "os.environ[\"LANGCHAIN_TRACING_V2\"] = \"false\"  \n",
    "os.environ[\"OPENAI_API_KEY\"] = getpass.getpass()\n",
    "from langchain_openai import ChatOpenAI\n",
    "llm = ChatOpenAI(model=\"gpt-4o-mini\")"
   ]
  },
  {
   "cell_type": "code",
   "execution_count": 28,
   "id": "cbffe0c6-b2e1-4e32-8c6f-2ad9ba7ef1c6",
   "metadata": {},
   "outputs": [
    {
     "name": "stdout",
     "output_type": "stream",
     "text": [
      "Requirement already satisfied: pypdf in /opt/anaconda3/lib/python3.12/site-packages (5.0.1)\n"
     ]
    }
   ],
   "source": [
    "!pip install pypdf\n",
    "import PyPDF2\n",
    "\n",
    "pdf_loader = PyPDFLoader(file_path='Resilient_LosAngeles_Plan.pdf') \n",
    "docs = pdf_loader.load()"
   ]
  },
  {
   "cell_type": "code",
   "execution_count": 29,
   "id": "e46f153a-9b50-49e8-b39b-d145d61644df",
   "metadata": {},
   "outputs": [
    {
     "data": {
      "text/plain": [
       "91"
      ]
     },
     "execution_count": 29,
     "metadata": {},
     "output_type": "execute_result"
    }
   ],
   "source": [
    "len(docs[0].page_content)"
   ]
  },
  {
   "cell_type": "code",
   "execution_count": 32,
   "id": "cb2320ea-82a9-4b94-9047-dce423d865d5",
   "metadata": {},
   "outputs": [
    {
     "data": {
      "text/plain": [
       "468"
      ]
     },
     "execution_count": 32,
     "metadata": {},
     "output_type": "execute_result"
    }
   ],
   "source": [
    "text_splitter = RecursiveCharacterTextSplitter(chunk_size=1000, chunk_overlap=200)\n",
    "all_splits = text_splitter.split_documents(docs)\n",
    "len(all_splits)"
   ]
  },
  {
   "cell_type": "code",
   "execution_count": 34,
   "id": "f384a230-0c16-4340-b17e-283c893fd07a",
   "metadata": {},
   "outputs": [],
   "source": [
    "from langchain_chroma import Chroma\n",
    "from langchain_openai import OpenAIEmbeddings\n",
    "\n",
    "vectorstore = Chroma.from_documents(documents=all_splits, embedding=OpenAIEmbeddings())"
   ]
  },
  {
   "cell_type": "code",
   "execution_count": 35,
   "id": "58a16a17-9fc7-4dd5-994d-6e5eefa60865",
   "metadata": {},
   "outputs": [
    {
     "data": {
      "text/plain": [
       "6"
      ]
     },
     "execution_count": 35,
     "metadata": {},
     "output_type": "execute_result"
    }
   ],
   "source": [
    "retriever = vectorstore.as_retriever(search_type=\"similarity\", search_kwargs={\"k\": 6})\n",
    "\n",
    "retrieved_docs = retriever.invoke(\"What Climate Threats?\")\n",
    "\n",
    "len(retrieved_docs)"
   ]
  },
  {
   "cell_type": "code",
   "execution_count": 329,
   "id": "cd500795-cd5a-4906-b713-352226c10606",
   "metadata": {},
   "outputs": [
    {
     "name": "stdout",
     "output_type": "stream",
     "text": [
      "Recent catastrophes around the world —\n",
      "hurricanes in the U.S. and the Caribbean, \n",
      "earthquakes in Mexico, fires in the western U.S., \n",
      "flooding in Nepal and Bangladesh —are serious \n",
      "reminders that every community needs focused resilience strategies. \n",
      "In Los Angeles, we know a major earthquake is \n",
      "a matter of when, not if. And we know that the \n",
      "next one could be more than 10 times worse \n",
      "than the 1994 Northridge earthquake that \n",
      "claimed 57 lives, injured over 9,000, displaced \n",
      "tens of thousands from their homes, and caused \n",
      "$20 billion in damage. \n",
      "And earthquakes aren’t the only threat we face: \n",
      "The effects of climate change are worsening, \n",
      "and cybercrime is causing more turmoil than \n",
      "ever for businesses, governments, and other \n",
      "institutions around the world. These threats are emerging quickly, and \n",
      "we can’t wait for catastrophes to hit before \n",
      "confronting them. We need a comprehensive, \n",
      "strategically coordinated approach to  \n",
      "urban resilience.\n"
     ]
    }
   ],
   "source": [
    "print(retrieved_docs[0].page_content)"
   ]
  },
  {
   "cell_type": "code",
   "execution_count": 38,
   "id": "9bf30c49-a73a-430e-9563-c39072b00c77",
   "metadata": {},
   "outputs": [],
   "source": [
    "from langchain.chains import create_retrieval_chain\n",
    "from langchain.chains.combine_documents import create_stuff_documents_chain\n",
    "from langchain_core.prompts import ChatPromptTemplate"
   ]
  },
  {
   "cell_type": "code",
   "execution_count": 40,
   "id": "82fce141-349e-46f4-82e6-ab4f25273a64",
   "metadata": {},
   "outputs": [],
   "source": [
    "definitions = {\n",
    "    \"Climate Change\": \"A long-term shift in weather patterns and temperatures, primarily caused by human activities emitting greenhouse gases (GHGs).\",\n",
    "    \"Greenhouse Gases (GHGs)\": \"Atmospheric gases like CO₂, CH₄, N₂O that absorb and emit radiation, leading to the greenhouse effect.\",\n",
    "    \"Anthropogenic Emissions\": \"Emissions of GHGs resulting from human activities such as burning fossil fuels and deforestation.\",\n",
    "    \"Climate Impacts\": \"Consequences of climate-related hazards on natural and human systems, affecting lives, ecosystems, economies, and infrastructure.\",\n",
    "    \"Climate Risk\": \"Potential negative consequences from climate impacts, resulting from the interaction of hazard, exposure, and vulnerability.\",\n",
    "    \"Climate Vulnerability\": \"The degree to which a system is susceptible to harm from climate change and its ability to adapt.\",\n",
    "    \"Climate Policies\": \"Strategies and measures adopted to implement resilience, mitigation, and adaptation options.\",\n",
    "    \"Resilience\": \"The ability of systems to cope with climate hazards by maintaining essential functions and adapting to changes.\",\n",
    "    \"Resilience Options\": \"Strategies to build resilience through policy changes, infrastructure improvements, planning, etc.\",\n",
    "    \"Mitigation\": \"Efforts to reduce or prevent emission of GHGs.\",\n",
    "    \"Mitigation Options\": \"Technologies or practices that contribute to mitigation, like renewable energy or waste minimization.\",\n",
    "    \"Adaptation\": \"Adjusting systems to actual or expected climate changes to minimize harm or exploit beneficial opportunities.\",\n",
    "    \"Adaptation Options\": \"Strategies addressing climate change adaptation, including structural, institutional, ecological, and behavioral measures.\",\n",
    "    \"Climate Justice\": \"Ensuring equitable sharing of the burdens and benefits of climate change impacts.\",\n",
    "    \"Maladaptation\": \"Actions that may increase vulnerability to climate change or diminish resilience.\",\n",
    "    \"Scenario\": \"A plausible description of how the future may develop based on a coherent set of assumptions.\"\n",
    "}"
   ]
  },
  {
   "cell_type": "code",
   "execution_count": 42,
   "id": "c32441ec-a968-47c3-9893-b492d4679405",
   "metadata": {},
   "outputs": [],
   "source": [
    "normalized_definitions = {key.lower(): value for key, value in definitions.items()}\n",
    "definitions_context = \"\\n\".join([f\"{key}: {value}\" for key, value in definitions.items()])\n"
   ]
  },
  {
   "cell_type": "code",
   "execution_count": 71,
   "id": "e0492a70-624e-40bf-823a-1c32f2b7cab6",
   "metadata": {},
   "outputs": [
    {
     "name": "stdout",
     "output_type": "stream",
     "text": [
      "Prompt Structure: input_variables=['context', 'input'] input_types={} partial_variables={} messages=[SystemMessagePromptTemplate(prompt=PromptTemplate(input_variables=['context'], input_types={}, partial_variables={}, template=\"You are a researcher specializing in extracting climate-related information from climate adaptation and resilience plans.You are provided with a document (referred to as the 'plan') from a state or city in the United States (the 'planning jurisdiction')that has adopted policies addressing climate change, which may pertain to resilience, mitigation, and adaptation.Please provide a detailed answer to the following question and include citations in the format: (Chapter name, Section header if applicable, Page number). If any of these citation variables are missing, write N/A\\n\\n{context}Definitions:\\nClimate Change: A long-term shift in weather patterns and temperatures, primarily caused by human activities emitting greenhouse gases (GHGs).\\nGreenhouse Gases (GHGs): Atmospheric gases like CO₂, CH₄, N₂O that absorb and emit radiation, leading to the greenhouse effect.\\nAnthropogenic Emissions: Emissions of GHGs resulting from human activities such as burning fossil fuels and deforestation.\\nClimate Impacts: Consequences of climate-related hazards on natural and human systems, affecting lives, ecosystems, economies, and infrastructure.\\nClimate Risk: Potential negative consequences from climate impacts, resulting from the interaction of hazard, exposure, and vulnerability.\\nClimate Vulnerability: The degree to which a system is susceptible to harm from climate change and its ability to adapt.\\nClimate Policies: Strategies and measures adopted to implement resilience, mitigation, and adaptation options.\\nResilience: The ability of systems to cope with climate hazards by maintaining essential functions and adapting to changes.\\nResilience Options: Strategies to build resilience through policy changes, infrastructure improvements, planning, etc.\\nMitigation: Efforts to reduce or prevent emission of GHGs.\\nMitigation Options: Technologies or practices that contribute to mitigation, like renewable energy or waste minimization.\\nAdaptation: Adjusting systems to actual or expected climate changes to minimize harm or exploit beneficial opportunities.\\nAdaptation Options: Strategies addressing climate change adaptation, including structural, institutional, ecological, and behavioral measures.\\nClimate Justice: Ensuring equitable sharing of the burdens and benefits of climate change impacts.\\nMaladaptation: Actions that may increase vulnerability to climate change or diminish resilience.\\nScenario: A plausible description of how the future may develop based on a coherent set of assumptions.\"), additional_kwargs={}), HumanMessagePromptTemplate(prompt=PromptTemplate(input_variables=['input'], input_types={}, partial_variables={}, template='{input}'), additional_kwargs={})]\n"
     ]
    }
   ],
   "source": [
    "system_prompt = (\n",
    "    \"You are a researcher specializing in extracting climate-related information from climate adaptation and resilience plans.\"\n",
    "    \"You are provided with a document (referred to as the 'plan') from a state or city in the United States (the 'planning jurisdiction')that has adopted policies addressing climate change, which may pertain to resilience, mitigation, and adaptation.\"\n",
    "    \"Please provide a detailed answer to the following question and include citations in the format: (Chapter name, Section header if applicable, Page number). If any of these citation variables are missing, write N/A\"\n",
    "    \"\\n\\n\"\n",
    "    \"{context}\"\n",
    "    \"Definitions:\\n\"\n",
    "    f\"{definitions_context}\"\n",
    ")\n",
    "\n",
    "prompt = ChatPromptTemplate.from_messages(\n",
    "    [\n",
    "        (\"system\", system_prompt),\n",
    "        (\"human\", \"{input}\"),\n",
    "    ]\n",
    ")\n",
    "print(\"Prompt Structure:\", prompt)\n",
    "\n",
    "question_answer_chain = create_stuff_documents_chain(llm, prompt)\n",
    "rag_chain = create_retrieval_chain(retriever, question_answer_chain)\n"
   ]
  },
  {
   "cell_type": "code",
   "execution_count": 85,
   "id": "9ceb6cb5-11ef-434c-aa8f-13c33d4baa11",
   "metadata": {},
   "outputs": [],
   "source": [
    "import pandas as pd\n",
    "questions_df = pd.read_csv(\"Question_Prompts.csv\")\n",
    "\n",
    "# Extract the 'Question' column (or whichever column contains your questions)\n",
    "questions = questions_df['Question'].tolist()"
   ]
  },
  {
   "cell_type": "code",
   "execution_count": 87,
   "id": "7460b3cd-506c-49ba-abe9-abdc8f22099f",
   "metadata": {},
   "outputs": [],
   "source": [
    "def generate_responses(questions):\n",
    "    responses = []\n",
    "    for question in questions:\n",
    "        try:\n",
    "            response = rag_chain.invoke({\"input\": question.lower()}) #generate a response\n",
    "            \n",
    "            \n",
    "            responses.append(f\"**{question}**\\n{response['answer']}\\n\\n\") #formatting output\n",
    "        except Exception as e:\n",
    "            responses.append(f\"**{question}**\\nError: {str(e)}\\n\\n\")\n",
    "    return responses"
   ]
  },
  {
   "cell_type": "code",
   "execution_count": 89,
   "id": "36afe60c-7c0b-48c7-9018-5b43d8fa0c77",
   "metadata": {},
   "outputs": [
    {
     "name": "stdout",
     "output_type": "stream",
     "text": [
      "Question    object\n",
      "dtype: object\n",
      "                                            Question\n",
      "0  Provide a summary of information available fro...\n",
      "1  To what extent does the plan address resilienc...\n",
      "2  Does the plan describe a scenario of climate c...\n",
      "3  What climate impacts does the plan identify as...\n",
      "4  For each identified climate impact, summarize ...\n"
     ]
    }
   ],
   "source": [
    "print(questions_df.dtypes)\n",
    "print(questions_df.head())"
   ]
  },
  {
   "cell_type": "code",
   "execution_count": 91,
   "id": "9cc3b30b-6a82-41be-9879-b7e85c708e91",
   "metadata": {},
   "outputs": [
    {
     "name": "stdout",
     "output_type": "stream",
     "text": [
      "### Los Angeles Plan\n",
      "\n",
      "## Questions\n",
      "**Provide a summary of information available from the plan regarding the planning jurisdiction, including its name, location, population, geography, major industries, per capita income, and similar information.**\n",
      "The provided excerpt does not contain specific information regarding the planning jurisdiction's name, location, population, geography, major industries, or per capita income. It focuses primarily on climate resilience strategies, planning processes, and community engagement in Los Angeles without providing demographic or economic data about the jurisdiction. Therefore, I am unable to provide a summary of relevant information in that regard. \n",
      "\n",
      "If more context or sections of the plan were available, additional details could potentially be extracted. As it stands, the information required is missing. \n",
      "\n",
      "Citation: N/A\n",
      "\n",
      "**To what extent does the plan address resilience, mitigation, and adaptation?**\n",
      "The plan addresses resilience, mitigation, and adaptation extensively through various goals and actions aimed at enhancing the city’s capacity to cope with climate-related challenges. \n",
      "\n",
      "1. **Resilience**: The plan emphasizes resilience as a guiding principle for land-use decisions in the Los Angeles General Plan and Zoning Code updates. It aims to integrate resilience into long-range planning efforts by incorporating climate adaptation, hazard mitigation, and recovery strategies. Specifically, the plan calls for the application of resilience criteria to capital planning projects, investment in green infrastructure, and modernization of the power grid to increase renewable energy usage. Additionally, it establishes a framework for tracking and reporting resilience outcomes, particularly focusing on vulnerable populations and neighborhoods (Goal 8).\n",
      "\n",
      "2. **Mitigation**: Mitigation strategies are addressed through initiatives aimed at reducing greenhouse gas emissions. The plan outlines goals for expanding renewable energy sources and enhancing energy storage capacity, with the target of achieving 65% renewable energy by 2036. Furthermore, it includes actions to develop clean energy infrastructure and promote electric fleets, which are crucial for reducing emissions and supporting emergency services (Goal 9).\n",
      "\n",
      "3. **Adaptation**: Adaptation measures are interwoven throughout the plan, particularly in the context of preparing for climate impacts and improving infrastructure resilience. The plan includes specific actions such as investing in infrastructure that can withstand climate threats, enhancing stormwater retention to mitigate flooding, and employing green infrastructure to improve water quality and manage water resources effectively. The integration of climate adaptation principles into the General Plan also signifies a commitment to adjusting urban planning in response to anticipated climate changes (Chapter on resilience, Page 65-66).\n",
      "\n",
      "Overall, the plan presents a comprehensive and interconnected approach to resilience, mitigation, and adaptation, ensuring that these elements work synergistically to strengthen the city's capacity to face climate challenges (Chapter on Resilience, Page 44; Goal 8; Goal 9).\n",
      "\n",
      "**Does the plan describe a scenario of climate change the planning jurisdiction will face and for which it is planning climate policies for resilience, mitigation, and adaptation? If so, please summarize any such scenario.**\n",
      "Yes, the plan describes scenarios of climate change that the planning jurisdiction will face and for which it is planning climate policies for resilience, mitigation, and adaptation. \n",
      "\n",
      "One significant scenario outlined in the plan is the accelerated sea level rise, projected to be between one to two feet, which poses a significant threat to coastal areas and necessitates the development of Local Coastal Programs (LCP) and updates to the General Plan that incorporate resilience strategies. This includes the integration of sea level rise modeling into local plans to prepare for and mitigate the impacts of this climate hazard (Chapter 3: Coastal Hazards, Page N/A).\n",
      "\n",
      "Additionally, the plan addresses increasing extreme heat events, emphasizing the need to develop an Urban Heat Vulnerability Index and mitigation strategies to prepare for higher temperatures and more frequent extreme heat occurrences. Specific actions include planting trees in communities that currently have fewer trees to help mitigate heat effects and launching neighborhood retrofit pilot programs to test cooling strategies (Chapter 3: Prepared and Responsive City, Goal 6, Actions 32-34, Page N/A).\n",
      "\n",
      "These scenarios highlight the planning jurisdiction's proactive approach to understanding and addressing the implications of climate change on local communities and infrastructure.\n",
      "\n",
      "**What climate impacts does the plan identify as presenting climate risks for the planning jurisdiction?**\n",
      "The plan identifies several climate impacts that present climate risks for the City of Los Angeles. These include:\n",
      "\n",
      "1. **Urban Heat Island Effect** - Increased temperatures in urban areas compared to their rural surroundings.\n",
      "2. **Extreme Heat** - More frequent and intense heatwaves.\n",
      "3. **Drought** - Prolonged periods of low precipitation leading to water scarcity.\n",
      "4. **Severe Weather and Flooding** - Increased frequency and intensity of storms resulting in flooding.\n",
      "5. **Sea Level Rise** - Rising sea levels threatening coastal areas.\n",
      "6. **Extreme Cold** - Occurrences of unusually low temperatures.\n",
      "\n",
      "These climate impacts are linked to various hazards that can affect the city's residents, infrastructure, and environment (Climate Adaptation, Page N/A).\n",
      "\n",
      "**For each identified climate impact, summarize the plan’s description of: The climate impact, the climate risks it poses to the planning jurisdiction, and areas or populations with the most climate vulnerability to the identified climate impact.**\n",
      "Based on the provided excerpt from the climate adaptation and resilience plan for the City of Los Angeles, here is a summary of identified climate impacts, their associated climate risks, and areas or populations with the most climate vulnerability:\n",
      "\n",
      "1. **Climate Impact: Urban Heat Island Effect**\n",
      "   - **Description of Climate Impact:** The plan highlights the need to address urban heat islands, which are areas that experience significantly higher temperatures than their rural surroundings due to human activities and land use.\n",
      "   - **Climate Risks:** Urban heat islands pose risks such as increased energy demand for cooling, elevated health risks, particularly for vulnerable populations, and exacerbated air quality issues.\n",
      "   - **Vulnerable Areas/Populations:** The plan emphasizes developing urban heat island reduction plans in the most vulnerable neighborhoods, which typically include underserved communities lacking green spaces and tree canopies (Chapter: Climate Adaptation, Section: Urban Heat Island Reduction, Page number: N/A).\n",
      "\n",
      "2. **Climate Impact: Coastal Flooding**\n",
      "   - **Description of Climate Impact:** The plan recognizes the threat of coastal flooding due to rising sea levels and increased storm intensity, which pose significant environmental and economic risks.\n",
      "   - **Climate Risks:** Coastal flooding can lead to property damage, displacement of communities, and loss of critical infrastructure, threatening the city's economic stability and safety.\n",
      "   - **Vulnerable Areas/Populations:** Communities located along the coast, especially those with lower socio-economic status and limited resources to adapt, are identified as particularly vulnerable to the impacts of coastal flooding (Chapter: Ocean and Coastal Resources, Section: Coastal Flooding, Page number: N/A).\n",
      "\n",
      "3. **Climate Impact: Water Scarcity**\n",
      "   - **Description of Climate Impact:** The plan addresses the challenges posed by water scarcity, which is exacerbated by climate change and increasing demand.\n",
      "   - **Climate Risks:** Water scarcity can lead to reduced water availability for drinking, agriculture, and industry, impacting public health and economic activities.\n",
      "   - **Vulnerable Areas/Populations:** Areas with limited water resources or reliance on specific water sources, such as marginalized communities and lower-income neighborhoods, are highlighted as being particularly vulnerable (Chapter: Water, Section: Water Scarcity, Page number: N/A).\n",
      "\n",
      "4. **Climate Impact: Air Quality Degradation**\n",
      "   - **Description of Climate Impact:** Climate change can worsen air quality due to increased temperatures and pollution.\n",
      "   - **Climate Risks:** Poor air quality poses health risks, particularly respiratory issues, and can disproportionately affect vulnerable populations.\n",
      "   - **Vulnerable Areas/Populations:** Neighborhoods with high traffic, industrial activity, or located near highways are considered more vulnerable, especially those with higher rates of pre-existing health conditions (Chapter: Public Health, Section: Air Quality, Page number: N/A).\n",
      "\n",
      "5. **Climate Impact: Economic Disruption**\n",
      "   - **Description of Climate Impact:** Economic systems can be disrupted by climate-related events such as extreme weather, flooding, and heat waves.\n",
      "   - **Climate Risks:** Economic disruption can lead to job losses, reduced economic opportunities, and increased poverty levels in affected areas.\n",
      "   - **Vulnerable Areas/Populations:** Low-income neighborhoods and communities reliant on vulnerable economic sectors are identified as particularly at risk of economic impacts from climate change (Chapter: Economic Systems, Section: Economic Disruption, Page number: N/A).\n",
      "\n",
      "In summary, the plan outlines various climate impacts and their associated risks, focusing on the specific vulnerabilities of certain areas and populations within Los Angeles, especially those that are underserved or economically disadvantaged. Each identified climate impact requires targeted adaptation strategies to build resilience in the most affected communities.\n",
      "\n",
      "**What resilience options does the plan identify? Summarize cost, timing, location, and important attributes.**\n",
      "The \"Resilient Los Angeles\" plan identifies various resilience options across different sectors to enhance the city's ability to cope with climate-related shocks and stresses. Below is a summary of some key resilience options, including aspects related to cost, timing, location, and important attributes:\n",
      "\n",
      "1. **Integrate Resilience Principles into Land Use Planning**\n",
      "   - **Cost**: N/A\n",
      "   - **Timing**: Short Term (five years or less)\n",
      "   - **Location**: Citywide, affecting all neighborhoods\n",
      "   - **Important Attributes**: This initiative aims to incorporate resilience as a guiding principle in the General Plan and Zoning Code updates. It focuses on climate adaptation, hazard mitigation, and recovery, ensuring that land-use decisions enhance the ability of communities to recover from disasters and climate change impacts (Chapter 1, Goal 8, Page N/A).\n",
      "\n",
      "2. **Expand Workforce Preparedness Training**\n",
      "   - **Cost**: N/A\n",
      "   - **Timing**: Short Term (five years or less)\n",
      "   - **Location**: Citywide\n",
      "   - **Important Attributes**: This action aims to enhance the city's capacity to restore essential services quickly after a major shock. It emphasizes the importance of training for resilience within city operations (Appendix B, Action 1.2, Page 163).\n",
      "\n",
      "3. **Increase Preparedness Resources in Vulnerable Communities**\n",
      "   - **Cost**: N/A\n",
      "   - **Timing**: Short Term (five years or less)\n",
      "   - **Location**: Targeted vulnerable communities in Los Angeles\n",
      "   - **Important Attributes**: This initiative focuses on equipping vulnerable populations with the necessary resources and training to prepare for disasters, ensuring equity in resilience efforts (Appendix B, Action 1.3, Page 163).\n",
      "\n",
      "4. **Grow Partnerships for Critical Services**\n",
      "   - **Cost**: N/A\n",
      "   - **Timing**: Short Term (five years or less)\n",
      "   - **Location**: Citywide\n",
      "   - **Important Attributes**: This option emphasizes collaboration between public, private, and nonprofit sectors to provide essential services to vulnerable Angelenos during crises, thereby enhancing community resilience (Appendix B, Action 1.5, Page 163).\n",
      "\n",
      "5. **Increase Access to Emergency Preparedness for Businesses**\n",
      "   - **Cost**: N/A\n",
      "   - **Timing**: Short Term (five years or less)\n",
      "   - **Location**: Citywide\n",
      "   - **Important Attributes**: This action aims to provide businesses with resources and training related to emergency preparedness, thereby bolstering economic resilience in the face of disasters (Appendix B, Action 1.6, Page 163).\n",
      "\n",
      "6. **Provide Access to Trauma Resources**\n",
      "   - **Cost**: N/A\n",
      "   - **Timing**: Short Term (five years or less)\n",
      "   - **Location**: Citywide\n",
      "   - **Important Attributes**: This initiative focuses on increasing access to trauma resources for Angelenos, recognizing the psychological impacts of disasters and the importance of mental health in resilience (Appendix B, Action 1.7, Page 163).\n",
      "\n",
      "Overall, the plan emphasizes the integration of resilience into various governance, planning, and community engagement efforts, ensuring that actions are inclusive and collaborative while focusing on the needs of the most vulnerable populations in Los Angeles.\n",
      "\n",
      "**What mitigation options does the plan identify? Summarize cost, timing, location, and important attributes.**\n",
      "The plan outlines several mitigation options, emphasizing various strategies to reduce greenhouse gas emissions and enhance resilience against climate impacts. Below is a summary of the identified mitigation options, including cost, timing, location, and important attributes:\n",
      "\n",
      "1. **Develop a Clean Energy and Smart Grid Infrastructure**\n",
      "   - **Cost**: Not specified in the excerpt.\n",
      "   - **Timing**: Future climate impacts and hazards are considered.\n",
      "   - **Location**: Citywide.\n",
      "   - **Important Attributes**: Focuses on reliability in the face of climate change, integrating renewable energy sources and advanced technology.\n",
      "\n",
      "2. **Expand Combined Solar and Energy Storage Pilots**\n",
      "   - **Cost**: Not detailed.\n",
      "   - **Timing**: Ongoing efforts implied.\n",
      "   - **Location**: Citywide, targeting areas suitable for solar installations.\n",
      "   - **Important Attributes**: Aims to enhance energy resilience and reduce reliance on fossil fuels, contributing to overall emission reduction.\n",
      "\n",
      "3. **Expand Electric Fleets, Charging Infrastructure, and Energy Backup**\n",
      "   - **Cost**: Not specified.\n",
      "   - **Timing**: Long-term implementation.\n",
      "   - **Location**: Citywide, particularly in areas with high traffic and emissions.\n",
      "   - **Important Attributes**: Supports emergency response services, reduces emissions in transportation, and increases access to electric vehicles.\n",
      "\n",
      "4. **Leverage Airport Modernization at Los Angeles World Airports to Increase Resilience**\n",
      "   - **Cost**: Not mentioned.\n",
      "   - **Timing**: Linked to ongoing modernization efforts.\n",
      "   - **Location**: Los Angeles World Airports.\n",
      "   - **Important Attributes**: Enhances the resilience of critical transportation infrastructure while addressing emissions from air travel.\n",
      "\n",
      "5. **Identify, Analyze, and Mitigate Local Oil and Gas Infrastructure Risks**\n",
      "   - **Cost**: Not provided.\n",
      "   - **Timing**: Ongoing assessments and actions.\n",
      "   - **Location**: Areas with existing oil and gas infrastructure.\n",
      "   - **Important Attributes**: Focuses on reducing risks associated with fossil fuel infrastructure, aiming to mitigate potential environmental impacts.\n",
      "\n",
      "6. **Enhance Protection of Critical Digital Assets from Cyberattacks**\n",
      "   - **Cost**: Not detailed.\n",
      "   - **Timing**: Ongoing and future considerations.\n",
      "   - **Location**: Citywide, focusing on critical infrastructure.\n",
      "   - **Important Attributes**: Ensures the resilience of digital infrastructure, which is vital for managing energy systems and climate data.\n",
      "\n",
      "These options reflect a comprehensive approach to climate mitigation, aligning with the goals of reducing emissions while also preparing for the impacts of climate change (Goal 9, Page numbers N/A).\n",
      "\n",
      "**What adaptation options does the plan identify? Summarize cost, timing, location, and important attributes.**\n",
      "The plan identifies several adaptation options aimed at enhancing resilience in various sectors of the City of Los Angeles. Here is a summary of these options, including their cost, timing, location, and important attributes:\n",
      "\n",
      "1. **Integrating Resilience Principles into Planning Documents**\n",
      "   - **Cost**: N/A\n",
      "   - **Timing**: Short Term (5 years or less)\n",
      "   - **Location**: Citywide, specifically within the General Plan and Zoning Code updates.\n",
      "   - **Important Attributes**: This involves incorporating climate adaptation, hazard mitigation, and recovery efforts into the General Plan, which serves as a foundation for land-use decisions. The guiding principle aims to improve recovery capabilities of individuals, neighborhoods, and systems from various shocks and stresses.\n",
      "\n",
      "2. **Updating Community Plans**\n",
      "   - **Cost**: N/A\n",
      "   - **Timing**: Medium Term (5 to 10 years)\n",
      "   - **Location**: 35 Community Plans across Los Angeles.\n",
      "   - **Important Attributes**: The update process includes integrating specific neighborhood-scale resilience strategies and risk assessments that reflect the unique challenges of each area. This customization aims to enhance community strength in the face of risks.\n",
      "\n",
      "3. **Utilizing Cost-Benefit Analysis Tools**\n",
      "   - **Cost**: N/A\n",
      "   - **Timing**: Short Term (5 years or less)\n",
      "   - **Location**: Citywide infrastructure projects.\n",
      "   - **Important Attributes**: The City is piloting the Autocase tool to analyze and maximize social, environmental, and financial returns on infrastructure investments. This tool helps prioritize climate resilience policies by assessing the costs and benefits associated with different design options.\n",
      "\n",
      "4. **Collaborative Partnerships**\n",
      "   - **Cost**: N/A\n",
      "   - **Timing**: Varies by specific action.\n",
      "   - **Location**: Community-wide, involving various stakeholders.\n",
      "   - **Important Attributes**: The plan emphasizes collaboration with public, private, nonprofit, and civic organizations to implement resilience actions. This partnership approach is intended to leverage multiple resources and expertise for enhanced effectiveness.\n",
      "\n",
      "These adaptation options highlight the City's commitment to integrating resilience into long-term planning processes and decision-making frameworks, ensuring that local communities are better equipped to handle climate-related challenges. \n",
      "\n",
      "(Citations: Goal 8: Integrate Resilience Principles Into Government, Page N/A; How to Read an Action, Page N/A; Framework for Resilience, Page N/A)\n",
      "\n",
      "**What climate policies does the plan identify to advance climate justice? Summarize populations vulnerable to the identified climate impact.**\n",
      "The plan identifies several climate policies aimed at advancing climate justice, particularly in relation to improving resilience and adaptation for vulnerable populations. Some key strategies include:\n",
      "\n",
      "1. **Developing Resilience Hubs**: The plan emphasizes the creation of resilience hubs in the most vulnerable neighborhoods by 2028. These hubs are designed to provide resources and support to communities that are disproportionately affected by climate impacts (e.g., extreme heat, flooding) (N/A).\n",
      "\n",
      "2. **Increasing Access to Green Spaces**: The plan aims to enhance access to green space and open space, particularly along the Los Angeles River system and in underserved neighborhoods by 2028. This initiative seeks to mitigate urban heat and improve overall community health (N/A).\n",
      "\n",
      "3. **Equitable Tree Canopy Coverage**: There is a goal to increase equitable tree canopy coverage by 2028, which helps to reduce urban heat island effects and improve air quality in marginalized areas (N/A).\n",
      "\n",
      "4. **Financial Literacy and Employment Pathways**: Actions include expanding access to financial literacy and security resources and establishing a capital project pipeline that creates living wage jobs for the most disadvantaged Angelenos (N/A).\n",
      "\n",
      "5. **Community Engagement and Outreach**: The plan includes provisions for engaging with the public health community to identify populations most at risk of heat-related health problems, ensuring that outreach and intervention strategies are designed to support these communities during high-heat days (N/A).\n",
      "\n",
      "### Vulnerable Populations\n",
      "\n",
      "The populations vulnerable to identified climate impacts include:\n",
      "\n",
      "- **Low-Income Communities**: These communities often lack the resources to adapt to climate changes, making them more susceptible to the effects of extreme heat and other climate-related hazards (N/A).\n",
      "\n",
      "- **Communities of Color**: Historical marginalization and systemic inequities contribute to these communities facing higher risks from climate impacts, including health risks and economic vulnerabilities (N/A).\n",
      "\n",
      "- **Individuals with Pre-existing Health Conditions**: Populations with health issues may be more adversely affected by climate impacts such as extreme heat, which can exacerbate existing health problems (N/A).\n",
      "\n",
      "- **Youth and Seniors**: These demographic groups are particularly vulnerable due to their dependence on community resources and their heightened susceptibility to climate hazards (N/A).\n",
      "\n",
      "Overall, the plan recognizes the need for equitable approaches to climate adaptation and resilience, focusing on the unique challenges faced by these vulnerable populations.\n",
      "\n",
      "**Is there any climate policy identified in the plan that could be a potential maladaptation? Summarize the resilience, mitigation, or adaptation option.**\n",
      "Yes, the plan identifies certain policies that could potentially lead to maladaptation, particularly in the context of biodiversity and ecological resilience. For example, the development of infrastructure that may prioritize urbanization or economic development without considering the ecological impacts could result in habitat destruction and increased vulnerability of local ecosystems to climate change.\n",
      "\n",
      "One specific resilience option mentioned is the \"Development of a Strategy to Sustain the Region’s Biodiversity and Tree Health to Support Long-Term Ecological Resilience.\" This initiative aims to collaborate with scientists to create biodiversity tools and metrics and to set realistic targets to meet resilience goals (Chapter 4, Page 123). However, if this strategy is not implemented with a comprehensive understanding of local ecosystems and the potential impacts of climate change, it could inadvertently lead to maladaptation by failing to adequately protect habitats or by introducing invasive species that further threaten local biodiversity.\n",
      "\n",
      "Additionally, the plan emphasizes the importance of urban greening and stormwater capture (Chapter 3, Section header not applicable, Page 63), which can enhance resilience. However, if these measures are not integrated with careful planning that considers local ecosystems and community needs, they could result in unintended consequences, such as increased flooding or heat in areas that are not properly managed. \n",
      "\n",
      "In summary, while the plan includes several resilience and adaptation strategies, the potential for maladaptation exists if ecological considerations are not adequately prioritized in the implementation of these policies.\n",
      "\n",
      "**Summarize the plan's description of how the planning jurisdiction will monitor and evaluate progress on the implementation of resilience, mitigation, and adaptation options.**\n",
      "The plan details that the City of Los Angeles will utilize the City Resilience Index, a comprehensive tool designed to systematically measure the city’s resilience. This approach aims to establish a holistic baseline understanding, enabling the City to track resilience outcomes and assess the implementation of the \"Resilient Los Angeles\" framework. Additionally, the plan emphasizes the importance of measuring and tracking these resilience metrics over the long term to ensure progress toward achieving resilience goals (N/A).\n",
      "\n",
      "**Generate a table that summarizes the following features from the document: Location/City Name, Population, Threats Identified, Measures Identified.**\n",
      "Here's a summary table based on the provided document:\n",
      "\n",
      "| Location/City Name | Population        | Threats Identified                                       | Measures Identified                                                                                     |\n",
      "|---------------------|------------------|---------------------------------------------------------|---------------------------------------------------------------------------------------------------------|\n",
      "| Los Angeles         | N/A              | - Extreme heat                                          | - Develop an Urban Heat Vulnerability Index and Mitigation Plan                                         |\n",
      "|                     |                  | - Displacement and redevelopment risks from disasters   | - Neighborhood Retrofit Pilot Program to test cooling strategies                                        |\n",
      "|                     |                  | - Vulnerability of disadvantaged groups (homeless, seniors, etc.) | - Develop new citywide equity indicators to inform and measure inclusive investments and policy-making   |\n",
      "|                     |                  | - Risks to critical infrastructure                       | - Fortify critical lifeline infrastructure and supply chains through assessments, coordination, and investment |\n",
      "|                     |                  | - Climate change impacts                                 | - Incorporate multihazard risks into long-term capital planning                                         |\n",
      "\n",
      "**Notes**: \n",
      "- Population data is not explicitly provided in the text.\n",
      "- The threats and measures are derived from the actions mentioned in the document.\n",
      "\n",
      "\n"
     ]
    }
   ],
   "source": [
    "Output = \"### Los Angeles Plan\\n\\n\"\n",
    "\n",
    "Output += \"## Questions\\n\"\n",
    "Output += ''.join(generate_responses(questions))\n",
    "\n",
    "print(Output)"
   ]
  },
  {
   "cell_type": "code",
   "execution_count": 93,
   "id": "d136cbe2-f78e-4f8f-b6e3-46b19b1f42db",
   "metadata": {},
   "outputs": [
    {
     "name": "stdout",
     "output_type": "stream",
     "text": [
      "Markdown document created: los_angeles_plan.md\n"
     ]
    }
   ],
   "source": [
    "with open(\"los_angeles_plan.md\", \"w\") as file:\n",
    "    file.write(Output)\n",
    "print(\"Markdown document created: los_angeles_plan.md\")"
   ]
  }
 ],
 "metadata": {
  "kernelspec": {
   "display_name": "Python 3 (ipykernel)",
   "language": "python",
   "name": "python3"
  },
  "language_info": {
   "codemirror_mode": {
    "name": "ipython",
    "version": 3
   },
   "file_extension": ".py",
   "mimetype": "text/x-python",
   "name": "python",
   "nbconvert_exporter": "python",
   "pygments_lexer": "ipython3",
   "version": "3.12.4"
  }
 },
 "nbformat": 4,
 "nbformat_minor": 5
}
